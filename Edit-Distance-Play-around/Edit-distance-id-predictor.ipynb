{
 "cells": [
  {
   "cell_type": "code",
   "execution_count": null,
   "metadata": {},
   "outputs": [],
   "source": [
    "import nltk\n",
    "import string\n",
    "from nltk.corpus import stopwords\n",
    "from nltk.tokenize import word_tokenize\n",
    "import pandas as pd\n",
    "from sklearn.feature_extraction.text import CountVectorizer\n",
    "from sklearn.feature_extraction.text import TfidfTransformer\n",
    "from sklearn import svm\n",
    "from sklearn.ensemble import RandomForestClassifier\n",
    "from sklearn.metrics import classification_report,f1_score\n",
    "from sklearn.model_selection import train_test_split\n",
    "from sklearn.pipeline import Pipeline\n",
    "import tensorflow as tf\n",
    "dataSet = pd.read_csv(\"Your CSV\")\n",
    "def text_process(mess):\n",
    "\tnopunc = [char for char in mess if char not in string.punctuation]\n",
    "\tnopunc = ''.join(nopunc)\n",
    "\treturn [word for word in nopunc.split() if word.lower() not in stopwords.words('english')]\n",
    "\n",
    "\n",
    "pipeline = Pipeline([\n",
    "\t('bow', CountVectorizer(analyzer=text_process)),\n",
    "\t('tfidf', TfidfTransformer()),  # integer counts to weighted TF-IDF scores\n",
    "\t('classifier', RandomForestClassifier()),  # train on TF-IDF vectors w/ Naive Bayes classifier\n",
    "])\n",
    "pipeline.fit(dataSet[\"Questions\"],dataSet[\"Id\"])\n",
    "# a = dataSet[\"Questions\"]\n",
    "# prediction = pipeline.predict(a)\n",
    "# print(classification_report(dataSet[\"Id\"],prediction))\n",
    "b = [\"want to check bills\"]\n",
    "prediction = pipeline.predict(b)\n",
    "print(\"Prediction:\" , prediction)"
   ]
  },
  {
   "cell_type": "code",
   "execution_count": null,
   "metadata": {},
   "outputs": [],
   "source": [
    "import skflow\n",
    "from sklearn.feature_extraction.text import TfidfTransformer\n",
    "from sklearn import datasets, metrics"
   ]
  },
  {
   "cell_type": "code",
   "execution_count": null,
   "metadata": {},
   "outputs": [],
   "source": [
    "\n",
    "classifier = skflow.TensorFlowLinearClassifier(n_classes=2)\n",
    "classifier.fit(X_train,y_test)"
   ]
  },
  {
   "cell_type": "code",
   "execution_count": null,
   "metadata": {},
   "outputs": [],
   "source": [
    "score = metrics.accuracy_score(X, classifier.predict(Y))\n",
    "print(\"Accuracy: %f\" % score)"
   ]
  },
  {
   "cell_type": "code",
   "execution_count": null,
   "metadata": {},
   "outputs": [],
   "source": [
    "\n",
