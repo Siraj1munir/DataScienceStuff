{
 "cells": [
  {
   "cell_type": "code",
   "execution_count": 1,
   "metadata": {},
   "outputs": [
    {
     "name": "stderr",
     "output_type": "stream",
     "text": [
      "C:\\Users\\siraj\\anaconda3\\lib\\site-packages\\tensorflow\\python\\framework\\dtypes.py:516: FutureWarning: Passing (type, 1) or '1type' as a synonym of type is deprecated; in a future version of numpy, it will be understood as (type, (1,)) / '(1,)type'.\n",
      "  _np_qint8 = np.dtype([(\"qint8\", np.int8, 1)])\n",
      "C:\\Users\\siraj\\anaconda3\\lib\\site-packages\\tensorflow\\python\\framework\\dtypes.py:517: FutureWarning: Passing (type, 1) or '1type' as a synonym of type is deprecated; in a future version of numpy, it will be understood as (type, (1,)) / '(1,)type'.\n",
      "  _np_quint8 = np.dtype([(\"quint8\", np.uint8, 1)])\n",
      "C:\\Users\\siraj\\anaconda3\\lib\\site-packages\\tensorflow\\python\\framework\\dtypes.py:518: FutureWarning: Passing (type, 1) or '1type' as a synonym of type is deprecated; in a future version of numpy, it will be understood as (type, (1,)) / '(1,)type'.\n",
      "  _np_qint16 = np.dtype([(\"qint16\", np.int16, 1)])\n",
      "C:\\Users\\siraj\\anaconda3\\lib\\site-packages\\tensorflow\\python\\framework\\dtypes.py:519: FutureWarning: Passing (type, 1) or '1type' as a synonym of type is deprecated; in a future version of numpy, it will be understood as (type, (1,)) / '(1,)type'.\n",
      "  _np_quint16 = np.dtype([(\"quint16\", np.uint16, 1)])\n",
      "C:\\Users\\siraj\\anaconda3\\lib\\site-packages\\tensorflow\\python\\framework\\dtypes.py:520: FutureWarning: Passing (type, 1) or '1type' as a synonym of type is deprecated; in a future version of numpy, it will be understood as (type, (1,)) / '(1,)type'.\n",
      "  _np_qint32 = np.dtype([(\"qint32\", np.int32, 1)])\n",
      "C:\\Users\\siraj\\anaconda3\\lib\\site-packages\\tensorflow\\python\\framework\\dtypes.py:525: FutureWarning: Passing (type, 1) or '1type' as a synonym of type is deprecated; in a future version of numpy, it will be understood as (type, (1,)) / '(1,)type'.\n",
      "  np_resource = np.dtype([(\"resource\", np.ubyte, 1)])\n",
      "C:\\Users\\siraj\\anaconda3\\lib\\site-packages\\tensorboard\\compat\\tensorflow_stub\\dtypes.py:541: FutureWarning: Passing (type, 1) or '1type' as a synonym of type is deprecated; in a future version of numpy, it will be understood as (type, (1,)) / '(1,)type'.\n",
      "  _np_qint8 = np.dtype([(\"qint8\", np.int8, 1)])\n",
      "C:\\Users\\siraj\\anaconda3\\lib\\site-packages\\tensorboard\\compat\\tensorflow_stub\\dtypes.py:542: FutureWarning: Passing (type, 1) or '1type' as a synonym of type is deprecated; in a future version of numpy, it will be understood as (type, (1,)) / '(1,)type'.\n",
      "  _np_quint8 = np.dtype([(\"quint8\", np.uint8, 1)])\n",
      "C:\\Users\\siraj\\anaconda3\\lib\\site-packages\\tensorboard\\compat\\tensorflow_stub\\dtypes.py:543: FutureWarning: Passing (type, 1) or '1type' as a synonym of type is deprecated; in a future version of numpy, it will be understood as (type, (1,)) / '(1,)type'.\n",
      "  _np_qint16 = np.dtype([(\"qint16\", np.int16, 1)])\n",
      "C:\\Users\\siraj\\anaconda3\\lib\\site-packages\\tensorboard\\compat\\tensorflow_stub\\dtypes.py:544: FutureWarning: Passing (type, 1) or '1type' as a synonym of type is deprecated; in a future version of numpy, it will be understood as (type, (1,)) / '(1,)type'.\n",
      "  _np_quint16 = np.dtype([(\"quint16\", np.uint16, 1)])\n",
      "C:\\Users\\siraj\\anaconda3\\lib\\site-packages\\tensorboard\\compat\\tensorflow_stub\\dtypes.py:545: FutureWarning: Passing (type, 1) or '1type' as a synonym of type is deprecated; in a future version of numpy, it will be understood as (type, (1,)) / '(1,)type'.\n",
      "  _np_qint32 = np.dtype([(\"qint32\", np.int32, 1)])\n",
      "C:\\Users\\siraj\\anaconda3\\lib\\site-packages\\tensorboard\\compat\\tensorflow_stub\\dtypes.py:550: FutureWarning: Passing (type, 1) or '1type' as a synonym of type is deprecated; in a future version of numpy, it will be understood as (type, (1,)) / '(1,)type'.\n",
      "  np_resource = np.dtype([(\"resource\", np.ubyte, 1)])\n"
     ]
    }
   ],
   "source": [
    "from tensorflow.compat.v1 import ConfigProto\n",
    "from tensorflow.compat.v1 import Session\n",
    "import os\n",
    "import librosa\n",
    "import IPython.display as ipd\n",
    "import matplotlib.pyplot as plt\n",
    "import numpy as np\n",
    "from scipy.io import wavfile\n",
    "from tqdm import tqdm\n",
    "import warnings\n",
    "\n",
    "\n",
    "config = ConfigProto()\n",
    "config.gpu_options.allow_growth = True\n",
    "sess = Session(config=config)\n",
    "\n",
    "warnings.filterwarnings(\"ignore\")"
   ]
  },
  {
   "cell_type": "code",
   "execution_count": 2,
   "metadata": {},
   "outputs": [],
   "source": [
    "# All samples\n",
    "# labels = [\n",
    "#     'left', 'cat', 'wow', 'six', 'go', 'one', 'dog', 'nine', 'sheila', 'yes',\n",
    "#     'down', 'bird', 'tree', 'up', 'eight', 'bed', 'three', 'on', 'house',\n",
    "#     'five', 'seven', 'zero', 'right', 'four', 'no', 'two', 'off', 'happy',\n",
    "#     'stop', 'marvin'\n",
    "# ]\n",
    "\n",
    "# Subsample\n",
    "labels = [\n",
    "    'one', 'two', 'zero', 'three', 'four', 'five', 'six', 'seven', 'eight', 'nine',\n",
    "]"
   ]
  },
  {
   "cell_type": "code",
   "execution_count": 3,
   "metadata": {},
   "outputs": [
    {
     "name": "stderr",
     "output_type": "stream",
     "text": [
      "100%|██████████████████████████████████████████████████████████████████████████████████| 10/10 [04:25<00:00, 26.53s/it]\n"
     ]
    }
   ],
   "source": [
    "train_audio_path = 'Dataset/augmented_dataset'\n",
    "\n",
    "all_wave = []\n",
    "all_label = []\n",
    "for label in tqdm(labels):\n",
    "    waves = [f for f in os.listdir(train_audio_path + '/'+ label) if f.endswith('.wav')]\n",
    "    for wav in waves:\n",
    "        samples, sample_rate = librosa.load(train_audio_path + '/' + label + '/' + wav, sr = 16000)\n",
    "        samples = librosa.resample(samples, sample_rate, 8000)\n",
    "        if(len(samples)== 8000) : \n",
    "            all_wave.append(samples)\n",
    "            all_label.append(label)"
   ]
  },
  {
   "cell_type": "code",
   "execution_count": 4,
   "metadata": {},
   "outputs": [
    {
     "name": "stderr",
     "output_type": "stream",
     "text": [
      "Using TensorFlow backend.\n"
     ]
    }
   ],
   "source": [
    "from sklearn.preprocessing import LabelEncoder\n",
    "from keras.utils import np_utils\n",
    "\n",
    "label_enconder = LabelEncoder()\n",
    "y = label_enconder.fit_transform(all_label)\n",
    "classes = list(label_enconder.classes_)\n",
    "y = np_utils.to_categorical(y, num_classes=len(labels))"
   ]
  },
  {
   "cell_type": "code",
   "execution_count": 5,
   "metadata": {},
   "outputs": [],
   "source": [
    "all_wave = np.array(all_wave).reshape(-1,8000,1)"
   ]
  },
  {
   "cell_type": "code",
   "execution_count": 6,
   "metadata": {},
   "outputs": [],
   "source": [
    "from sklearn.model_selection import train_test_split\n",
    "x_train, x_valid, y_train, y_valid = train_test_split(np.array(all_wave),np.array(y),stratify=y,test_size = 0.2,random_state=777,shuffle=True)"
   ]
  },
  {
   "cell_type": "code",
   "execution_count": 7,
   "metadata": {},
   "outputs": [],
   "source": [
    "#Main model\n",
    "from keras.layers import Bidirectional, BatchNormalization, CuDNNGRU, TimeDistributed"
   ]
  },
  {
   "cell_type": "code",
   "execution_count": 8,
   "metadata": {},
   "outputs": [
    {
     "name": "stdout",
     "output_type": "stream",
     "text": [
      "WARNING:tensorflow:From C:\\Users\\siraj\\anaconda3\\lib\\site-packages\\keras\\backend\\tensorflow_backend.py:4070: The name tf.nn.max_pool is deprecated. Please use tf.nn.max_pool2d instead.\n",
      "\n",
      "Model: \"model_1\"\n",
      "_________________________________________________________________\n",
      "Layer (type)                 Output Shape              Param #   \n",
      "=================================================================\n",
      "input_1 (InputLayer)         (None, 8000, 1)           0         \n",
      "_________________________________________________________________\n",
      "batch_normalization_1 (Batch (None, 8000, 1)           4         \n",
      "_________________________________________________________________\n",
      "conv1d_1 (Conv1D)            (None, 7988, 8)           112       \n",
      "_________________________________________________________________\n",
      "max_pooling1d_1 (MaxPooling1 (None, 2662, 8)           0         \n",
      "_________________________________________________________________\n",
      "dropout_1 (Dropout)          (None, 2662, 8)           0         \n",
      "_________________________________________________________________\n",
      "conv1d_2 (Conv1D)            (None, 2652, 16)          1424      \n",
      "_________________________________________________________________\n",
      "max_pooling1d_2 (MaxPooling1 (None, 884, 16)           0         \n",
      "_________________________________________________________________\n",
      "dropout_2 (Dropout)          (None, 884, 16)           0         \n",
      "_________________________________________________________________\n",
      "conv1d_3 (Conv1D)            (None, 876, 32)           4640      \n",
      "_________________________________________________________________\n",
      "max_pooling1d_3 (MaxPooling1 (None, 292, 32)           0         \n",
      "_________________________________________________________________\n",
      "dropout_3 (Dropout)          (None, 292, 32)           0         \n",
      "_________________________________________________________________\n",
      "batch_normalization_2 (Batch (None, 292, 32)           128       \n",
      "_________________________________________________________________\n",
      "bidirectional_1 (Bidirection (None, 292, 128)          124416    \n",
      "_________________________________________________________________\n",
      "bidirectional_2 (Bidirection (None, 292, 128)          198144    \n",
      "_________________________________________________________________\n",
      "bidirectional_3 (Bidirection (None, 128)               198144    \n",
      "_________________________________________________________________\n",
      "batch_normalization_3 (Batch (None, 128)               512       \n",
      "_________________________________________________________________\n",
      "dense_1 (Dense)              (None, 256)               33024     \n",
      "_________________________________________________________________\n",
      "dense_2 (Dense)              (None, 10)                2570      \n",
      "=================================================================\n",
      "Total params: 563,118\n",
      "Trainable params: 562,796\n",
      "Non-trainable params: 322\n",
      "_________________________________________________________________\n"
     ]
    }
   ],
   "source": [
    "from keras.layers import Dense, Dropout, Flatten, Conv1D, Input, MaxPooling1D\n",
    "from keras.models import Model\n",
    "from keras.callbacks import EarlyStopping, ModelCheckpoint\n",
    "from keras import backend as K\n",
    "K.clear_session()\n",
    "\n",
    "inputs = Input(shape=(8000,1))\n",
    "x = BatchNormalization(axis=-1, momentum=0.99, epsilon=1e-3, center=True, scale=True)(inputs)\n",
    "\n",
    "#First Conv1D layer\n",
    "x = Conv1D(8,13, padding='valid', activation='relu', strides=1)(x)\n",
    "x = MaxPooling1D(3)(x)\n",
    "x = Dropout(0.3)(x)\n",
    "\n",
    "#Second Conv1D layer\n",
    "x = Conv1D(16, 11, padding='valid', activation='relu', strides=1)(x)\n",
    "x = MaxPooling1D(3)(x)\n",
    "x = Dropout(0.3)(x)\n",
    "\n",
    "#Third Conv1D layer\n",
    "x = Conv1D(32, 9, padding='valid', activation='relu', strides=1)(x)\n",
    "x = MaxPooling1D(3)(x)\n",
    "x = Dropout(0.3)(x)\n",
    "\n",
    "x = BatchNormalization(axis=-1, momentum=0.99, epsilon=1e-3, center=True, scale=True)(x)\n",
    "\n",
    "x = Bidirectional(CuDNNGRU(128, return_sequences=True), merge_mode='sum')(x)\n",
    "x = Bidirectional(CuDNNGRU(128, return_sequences=True), merge_mode='sum')(x)\n",
    "x = Bidirectional(CuDNNGRU(128, return_sequences=False), merge_mode='sum')(x)\n",
    "\n",
    "x = BatchNormalization(axis=-1, momentum=0.99, epsilon=1e-3, center=True, scale=True)(x)\n",
    "\n",
    "#Flatten layer\n",
    "# x = Flatten()(x)\n",
    "\n",
    "#Dense Layer 1\n",
    "x = Dense(256, activation='relu')(x)\n",
    "outputs = Dense(len(labels), activation=\"softmax\")(x)\n",
    "\n",
    "model = Model(inputs, outputs)\n",
    "model.summary()\n"
   ]
  },
  {
   "cell_type": "code",
   "execution_count": 9,
   "metadata": {},
   "outputs": [],
   "source": [
    "model.compile(loss='categorical_crossentropy',optimizer='nadam',metrics=['accuracy'])"
   ]
  },
  {
   "cell_type": "code",
   "execution_count": 10,
   "metadata": {},
   "outputs": [],
   "source": [
    "early_stop = EarlyStopping(monitor='val_loss', mode='min', \n",
    "                           verbose=1, patience=10, min_delta=0.0001)\n",
    "\n",
    "checkpoint = ModelCheckpoint('speech2text_model.hdf5', monitor='val_acc', \n",
    "                             verbose=1, save_best_only=True, mode='max')"
   ]
  },
  {
   "cell_type": "code",
   "execution_count": 12,
   "metadata": {},
   "outputs": [
    {
     "name": "stdout",
     "output_type": "stream",
     "text": [
      "Train on 10653 samples, validate on 2664 samples\n",
      "Epoch 1/20\n",
      "10653/10653 [==============================] - 129s 12ms/step - loss: 0.0900 - accuracy: 0.9693 - val_loss: 0.0777 - val_accuracy: 0.9748\n",
      "Epoch 2/20\n",
      "10653/10653 [==============================] - 129s 12ms/step - loss: 0.0845 - accuracy: 0.9729 - val_loss: 0.0610 - val_accuracy: 0.9797\n",
      "Epoch 3/20\n",
      "10653/10653 [==============================] - 131s 12ms/step - loss: 0.0869 - accuracy: 0.9728 - val_loss: 0.0765 - val_accuracy: 0.9752\n",
      "Epoch 4/20\n",
      "10653/10653 [==============================] - 130s 12ms/step - loss: 0.0674 - accuracy: 0.9773 - val_loss: 0.0518 - val_accuracy: 0.9820\n",
      "Epoch 5/20\n",
      "10653/10653 [==============================] - 129s 12ms/step - loss: 0.0797 - accuracy: 0.9747 - val_loss: 0.0643 - val_accuracy: 0.9824\n",
      "Epoch 6/20\n",
      "10653/10653 [==============================] - 129s 12ms/step - loss: 0.0713 - accuracy: 0.9761 - val_loss: 0.0500 - val_accuracy: 0.9824\n",
      "Epoch 7/20\n",
      "10653/10653 [==============================] - 129s 12ms/step - loss: 0.0723 - accuracy: 0.9754 - val_loss: 0.0641 - val_accuracy: 0.9839\n",
      "Epoch 8/20\n",
      "10653/10653 [==============================] - 2260s 212ms/step - loss: 0.0737 - accuracy: 0.9754 - val_loss: 0.1558 - val_accuracy: 0.9576\n",
      "Epoch 9/20\n",
      "10653/10653 [==============================] - 130s 12ms/step - loss: 0.0827 - accuracy: 0.9723 - val_loss: 0.0628 - val_accuracy: 0.9779\n",
      "Epoch 10/20\n",
      "10653/10653 [==============================] - 130s 12ms/step - loss: 0.0770 - accuracy: 0.9747 - val_loss: 0.0922 - val_accuracy: 0.9730\n",
      "Epoch 11/20\n",
      "10653/10653 [==============================] - 130s 12ms/step - loss: 0.0747 - accuracy: 0.9745 - val_loss: 0.0563 - val_accuracy: 0.9801\n",
      "Epoch 12/20\n",
      "10653/10653 [==============================] - 129s 12ms/step - loss: 0.0633 - accuracy: 0.9787 - val_loss: 0.0437 - val_accuracy: 0.9857\n",
      "Epoch 13/20\n",
      "10653/10653 [==============================] - 141s 13ms/step - loss: 0.0737 - accuracy: 0.9767 - val_loss: 0.0580 - val_accuracy: 0.9812\n",
      "Epoch 14/20\n",
      "10653/10653 [==============================] - 130s 12ms/step - loss: 0.0716 - accuracy: 0.9756 - val_loss: 0.0707 - val_accuracy: 0.9779\n",
      "Epoch 15/20\n",
      "10653/10653 [==============================] - 129s 12ms/step - loss: 0.0693 - accuracy: 0.9777 - val_loss: 0.0456 - val_accuracy: 0.9857\n",
      "Epoch 16/20\n",
      "10653/10653 [==============================] - 129s 12ms/step - loss: 0.0607 - accuracy: 0.9804 - val_loss: 0.0466 - val_accuracy: 0.9857\n",
      "Epoch 17/20\n",
      "10653/10653 [==============================] - 129s 12ms/step - loss: 0.0715 - accuracy: 0.9766 - val_loss: 0.0656 - val_accuracy: 0.9786\n",
      "Epoch 18/20\n",
      "10653/10653 [==============================] - 129s 12ms/step - loss: 0.0635 - accuracy: 0.9801 - val_loss: 0.0580 - val_accuracy: 0.9797\n",
      "Epoch 19/20\n",
      "10653/10653 [==============================] - 130s 12ms/step - loss: 0.0765 - accuracy: 0.9753 - val_loss: 0.0406 - val_accuracy: 0.9850\n",
      "Epoch 20/20\n",
      "10653/10653 [==============================] - 129s 12ms/step - loss: 0.0652 - accuracy: 0.9791 - val_loss: 0.0602 - val_accuracy: 0.9779\n"
     ]
    }
   ],
   "source": [
    "hist = model.fit(\n",
    "    x=x_train, \n",
    "    y=y_train,\n",
    "    epochs=20, \n",
    "    callbacks=[early_stop, checkpoint], \n",
    "    batch_size=32, \n",
    "    validation_data=(x_valid,y_valid)\n",
    ")"
   ]
  },
  {
   "cell_type": "code",
   "execution_count": 13,
   "metadata": {},
   "outputs": [
    {
     "data": {
      "image/png": "[encoded data removed]",
      "text/plain": [
       "<Figure size 432x288 with 1 Axes>"
      ]
     },
     "metadata": {
      "needs_background": "light"
     },
     "output_type": "display_data"
    }
   ],
   "source": [
    "from matplotlib import pyplot\n",
    "pyplot.plot(hist.history['loss'], label='train')\n",
    "pyplot.plot(hist.history['val_loss'], label='test')\n",
    "pyplot.legend()\n",
    "pyplot.show()"
   ]
  },
  {
   "cell_type": "code",
   "execution_count": 14,
   "metadata": {},
   "outputs": [],
   "source": [
    "model.save('speech2text_model.hdf5')"
   ]
  },
  {
   "cell_type": "code",
   "execution_count": 15,
   "metadata": {},
   "outputs": [],
   "source": [
    "from keras.models import load_model\n",
    "model = load_model('speech2text_model.hdf5')"
   ]
  },
  {
   "cell_type": "code",
   "execution_count": 16,
   "metadata": {},
   "outputs": [],
   "source": [
    "def s2t_predict(audio, shape_num=8000):\n",
    "    prob=model.predict(audio.reshape(1,shape_num,1))\n",
    "    index=np.argmax(prob[0])\n",
    "    return classes[index]"
   ]
  },
  {
   "cell_type": "code",
   "execution_count": 17,
   "metadata": {},
   "outputs": [
    {
     "name": "stdout",
     "output_type": "stream",
     "text": [
      "Audio: five\n"
     ]
    },
    {
     "data": {
      "text/html": [
       "\n",
       "                <audio  controls=\"controls\" >\n",
       "                    <source src=\"data:audio/wav;base64,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\" type=\"audio/wav\" />\n",
       "                    Your browser does not support the audio element.\n",
       "                </audio>\n",
       "              "
      ],
      "text/plain": [
       "<IPython.lib.display.Audio object>"
      ]
     },
     "execution_count": 17,
     "metadata": {},
     "output_type": "execute_result"
    }
   ],
   "source": [
    "import random\n",
    "index=random.randint(0,len(x_valid)-1)\n",
    "samples=x_valid[index].ravel()\n",
    "print(\"Audio:\",classes[np.argmax(y_valid[index])])\n",
    "ipd.Audio(samples, rate=8000)"
   ]
  },
  {
   "cell_type": "code",
   "execution_count": 18,
   "metadata": {},
   "outputs": [
    {
     "data": {
      "text/plain": [
       "(8000,)"
      ]
     },
     "execution_count": 18,
     "metadata": {},
     "output_type": "execute_result"
    }
   ],
   "source": [
    "samples.shape"
   ]
  },
  {
   "cell_type": "code",
   "execution_count": 19,
   "metadata": {},
   "outputs": [
    {
     "name": "stdout",
     "output_type": "stream",
     "text": [
      "Text: five\n"
     ]
    }
   ],
   "source": [
    "print(\"Text:\",s2t_predict(samples))"
   ]
  },
  {
   "cell_type": "code",
   "execution_count": 21,
   "metadata": {},
   "outputs": [
    {
     "name": "stdout",
     "output_type": "stream",
     "text": [
      "start\n",
      "end\n"
     ]
    }
   ],
   "source": [
    "import sounddevice as sd\n",
    "import soundfile as sf\n",
    "\n",
    "samplerate = 16000  \n",
    "duration = 1 # seconds\n",
    "filename = 'one.wav'\n",
    "print(\"start\")\n",
    "mydata = sd.rec(int(samplerate * duration), samplerate=samplerate,\n",
    "    channels=1, blocking=True)\n",
    "print(\"end\")\n",
    "sd.wait()\n",
    "sf.write(filename, mydata, samplerate)"
   ]
  },
  {
   "cell_type": "code",
   "execution_count": 22,
   "metadata": {},
   "outputs": [
    {
     "name": "stdout",
     "output_type": "stream",
     "text": [
      "(8000,)\n"
     ]
    },
    {
     "data": {
      "text/html": [
       "\n",
       "                <audio  controls=\"controls\" >\n",
       "                    <source src=\"data:audio/wav;base64,UklGRqQ+AABXQVZFZm10IBAAAAABAAEAQB8AAIA+AAACABAAZGF0YYA+AAAAAAAAAAAAAAAAAAAAAAAAAAAAAAAAAAAAAAAAAAAAAAAAAAAAAAAAAAAAAAAAAAAAAAAAAAAAAAAAAAAAAAAAAAAAAAAAAAAAAAAAAAAAAAAAAAAAAAAAAAAAAAAAAAAAAAAAAAAAAAAAAAAAAAAAAAAAAAAA//8AAAAAAAAAAAAAAAAAAAAAAAAAAAAAAAAAAAAAAAAAAAAAAAAAAAAAAAAAAAAAAAAAAAAAAAAAAAAAAAAAAP//AAAAAAAAAAAAAAAAAAAAAAAAAAAAAAAAAAAAAAAAAAD//wAAAAAAAAAAAAAAAAAAAAAAAAAAAAAAAAAAAAAAAAAAAAAAAAAAAAAAAAAAAAAAAAAAAAAAAAAAAAAAAP//AAAAAAAAAAAAAAAAAAAAAAAAAAAAAAAAAAAAAAAAAAAAAAAAAAAAAAAAAAAAAAAAAAAAAAAAAAAAAAAAAAAAAAAAAAAAAAAAAAAAAP//AAAAAAAAAAAAAAAAAAAAAAAAAAAAAAAAAAAAAAAAAAAAAAAAAAAAAAAAAAAAAAAAAAAAAAAAAAAAAAAAAAAAAAAAAAAAAAAAAAAAAAAAAAAAAAAAAAAAAAAAAAAAAAAAAAAAAAAAAAAAAAEAAAAAAAAAAAAAAAAAAAAAAAAAAAAAAAAAAAAAAAAAAAAAAAAAAAAAAAAAAAABAAAAAAAAAAAAAAAAAAAAAAAAAAAAAAAAAAAAAAAAAAAAAAAAAAAAAAAAAAAAAAAAAAAAAAAAAAAAAAAAAAAAAAABAAAAAAAAAAAAAAAAAAAAAAAAAAAAAAAAAAAAAAAAAAAAAAAAAAAAAAAAAAAAAAAAAAAAAAAAAAAAAAAAAAAAAAAAAAAAAAAAAAAAAAAAAAAAAAAAAAAAAAAAAAAAAAAAAAAAAAAAAAAAAAAAAAAAAAAAAAAAAAAAAAAAAAAAAAAAAQAAAAAAAAAAAAAAAQAAAAAAAAD//wAAAAAAAAAAAAAAAAAAAAAAAAAAAQABAAAAAAAAAAAAAAAAAAAAAAAAAAAAAAAAAAAAAAAAAAAAAAAAAAAAAAAAAAAAAAAAAAAAAAAAAAAAAAAAAAAAAAAAAAAAAAAAAAAAAAAAAAAAAAAAAAAAAAAAAAAAAAAAAAAAAAAAAAAAAAAAAAAAAAAAAAAAAAAAAAAAAAAAAAAAAAAAAAAAAAAAAAAAAAAAAAAAAAAAAAAAAAAAAAAAAAAAAAAAAAAAAAAAAAAAAAAAAAAAAAAAAAAAAAAAAAAAAAAAAAAAAAAAAAAAAAAAAAAAAAAAAAAAAAAAAAAAAAAAAAAAAAAAAAAAAAAAAAAAAAAA//8AAAAAAAAAAAAAAAAAAAAAAAAAAAAAAAAAAAAAAAAAAAAAAAAAAAAAAAAAAAAAAAAAAAAAAAAAAAAAAAAAAAAAAAAAAAAAAAAAAAAAAAD//wAAAAAAAAAAAAAAAAAAAAAAAAAAAAAAAAAAAAAAAAAAAAAAAAAA//8AAAAAAAAAAAAAAAAAAAAAAAAAAAAAAAAAAAAAAAAAAAAAAAD//wAAAAAAAAAAAAAAAAAAAAAAAAAAAAAAAAAAAAAAAAAAAAAAAAAAAAAAAAAAAAAAAAAAAAAAAAAAAAAAAAAAAAAAAAEAAAAAAAAAAAAAAAAA//8AAAAAAAAAAAAAAAAAAAAAAAAAAAAAAAAAAAAAAAAAAAAAAAAAAAAAAAABAAAAAAAAAAAAAAAAAAAAAAAAAAAAAAAAAP//AAAAAAAAAQAAAP//AAAAAAAAAAAAAAEAAQAAAAAAAAAAAAAAAAAAAP////8AAAAAAAABAAAA/v8AAAAAAgD///7/AgABAP//AAD/////AAAAAAEA//8AAP////8CAAAAAAAAAAAA//8AAAAAAQAAAAAAAQD+/wAAAQAAAP//AQAAAAAA/v8AAAMA//8AAAIAAAD+////AAACAAAAAAD//wEAAAAAAAEA//8BAAAAAAAAAAAAAAD//wAAAQAAAAAA//8AAAAAAQAAAP//AAAAAAAAAAAAAAAAAAAAAAAAAAAAAAAAAAAAAAAAAAAAAAAAAAAAAAAAAQAAAAAAAAAAAAAAAAAAAAAAAAAAAAAAAAAAAAAAAAAAAAAAAAAAAP//AAAAAAAAAAAAAAAAAAAAAAAAAAABAAAAAAAAAAAAAAAAAAAAAAAAAAAAAAAAAAAAAAAAAAAAAAAAAAAAAAAAAAAAAAAAAAAAAAAAAAAAAAAAAAAA//8AAAAAAAAAAAAAAAAAAAAAAAAAAAAAAAAAAAAAAAAAAAAAAAAAAAAAAAAAAAEAAAAAAAAAAAAAAAAAAAAAAAAAAAAAAAAAAAAAAAAAAAAAAAAAAAAAAAAAAAAAAAAAAAAAAAAAAAAAAAAAAAD//wIA+v8KAMf/pv/K/9T/9v8CABMAFQATABkAIwApADAAMAAsACQAHwAmAB4AHAASAAgAAAAAAA0ABQD6//r//f/0//X/AQABAPf/7P/k/+z/+//y//X/+f/w/+D/2v/h/+H/7P/t/+r/4//l/+P/2//r//v/DQAJAPr/AwALAA4ACQAIABQAFgAOAAYA/P/y//3/AgD6/w4AHQAcACsAJQAVAAMA+//z//X/BQAEAAAAAQD9//j/+//2////DQAMABYAHgANAAAA//8AAAAA8//i/wAAFgAPABAAFAAHAPz/9v/4/wMABgANAPr/+f/9//z/9P/t//H/+f/9//H/+f8AAPn/7v/3//L/8P/8////BAAAAPn/+P///wEABwAVAB0AKAAjABgAFgARAAQA8//g/9r/9f/z//L/+f8CAA0ACwATAAcAAgALAA8ADAARAAoA8//r/+P/5v/r/+//+P/5//T/6v/u//H/4v/z//v/8f/+/wUA/v8CAAkAEwALABMAHwAVABsACAAAAAwAGgAOABMAFAADAA0ADAAPAAMA9//y/+v/9/8AAP3/7P/j/+L/7v8CAPv/9f8AAP//8f8FABwADAAJABMABADz//j/+//7/wIABQAJAAoADwAaABQA/f/9/xYADgD4//X/8//z//n//v/7//P/5f/l/+n/6f/6//X/8f/2//f/+v/+/wMADgAYAAkADAAVAA4ABAD9/woACgAGAAUA/f8GAAwACgARABEACwAHAAwADQAAAOj/4v/o//b////5//v/AAATABcAFQAAAOn/4v/r//v/+//1/+L/5P/k/+n/9v/u//j/EAAOAP7//v8DAAMA//8IABEAEAAXABsAIwASAAwAHAAcABIAEAAUAAAA9v8AAAIA9v/4/wcABgDy/+7/+P/2/+//8v8AAAIA/f/z//L/9f/u//r/DAACAPX/9f/7//v/+v8IAAsAEQANAAMABAAKABUAJgAjAAQAAAAAAPL//f8DAO7/1v/l/+3/5P/u/+7/9v/t//L/9v/3//r/7v/4/wYAGAAJAAgABwD+/wQAEgAnABcAFgAWAAsABwAAAOv/6P/x//D/BAAHAAEA+//3//r/+//7//r///8OABoAKQAoABoAFQAQAAkAFQAfAAEAAAD+//P//v8DAPn/+P/8//H/5P/b/+n/6f/k/+n/+/8AAAEAAQADABEAEgARAP//9/8DAAIA+P8AAAYABQABAPL/6//u//f/9P/j/+3/AAD6//f////8//b//P/8//b/9f////j/+v8OACUANQAnACQAGQAIAAcADgASAAAA9v/1/+3/5f/t//f/7//o/+b/4P/h//z//P/8/xYAFQAbABsAEQAPABUAFwAhACkAFQALAA8AHAAUAAkADAAKAAgA8//u////AAAGAPv/8v/4/+//3v/k//v/AAD///b/+f8AAP3/6f/4/xQADgAHAAcAAADp/+X/4f/j/+T/3//s//H/8f/n/+3/+v/4//P/+/8CABkAIAAeAA8ABgAMAAYAFgATAAkABQAIAAAAAwAOAAoABAACAAIAAAALAAQA8//x//T/+P///wEA+v8AAB8AKgAbAB8AEwACABAADwAFAAYABgABAPv/7P/n//X/+v/6/wYADwAIAAIACQALAAIA+v/z/+z/3P/a/+T/4f/i/+j/7f/z/wAA7//x/wQA+v8RABkAAgD9//b//v8QABUAIgAVAAYADwATAAcA/f/9/+X/6f/x/wIACgD5/+n/8f8JAAUADQASAB4AGAAKABoADQDx//b//P8MABYACAD5//r/DwAEAP3/AAD///f/2v/T/9v/6v/7/wkAGgANAAQAAQD8//v/8P/3/xAAFAAPABEAAQD4//j/6v/k//r//v8HABIACwD6/+P/5//w/xIAEgAOAC4AHwAVABMAAwACAA4ACAAEABAADgAMAP3/9P/8//f/5v/c//v/CgD6//T/4v/y/xMACgAAAAAABwAOAB8AHwAAAOn/7P/0//r/BgAAAPH//f/+//r/9f/c/9j/5P/n/+b/9v8GAPj/7v///wYA/v/+/w4AFgAJABMAIAAVABwAGAAJAAgABgABAAEAAADt/+z/CgAFAP7/AAD6//j//P8JABMAIgAeABgADgD//wQA+v/t/wQACQD+/wEABQAMAP//+v/4//X/AgD0//H/+f/z/+b/3P/V/+T//P8AAAwAGgASAPz/9v8CAAAAAAABAAIAEAARABYACgD9//3/9v/3/wAACwANAAUACgAPAP3/9//o/97/9/8HAA4A/P/p/+r/8f/k/+H/+P/4/wEAFAAHAAAADAANAAQAAQAPABYABQAAAAgADQAUABsAIgAbAB0AHgAOAP3/+P/w/+3/+//x//H/AAAhAC0AGQASAAUA/v/8//X/7/8AAAIA/P///wAAAwDx/+X/5v/w/+f/1v/f/+L/3v/r//v/+v/4//P//P8PAP3/9v8IAA4AGwAbABkABgD8//3/4//k//H/9f8AAAUA9//+//X/8P/7//j/GwAPAO3/8v8BAP7//v8bABIACgAWAB8AJQATAAkAEQAkACsAIgAkABsAEwAIAPj/7//v//j/CAAIAAQAAgD3//T/9P/3/woADQD9//z/AAD+//j/8//s/9//2f/x/wMA/v/6//b/8//n/97/6//1//n/8//8/wYA7//a/+v/CAAJAAAADwAMAAIACAAAAPr/9//4/wIAFAAVAAwACAACAAoAEgAfAA4AAAALABIADQD4//X/AAAAAO7/9f/8//X//f8KABkAFwAOABAABgD8/wIA+//w//j/BgAEAAAABAAAAAUAHQAVAAoA+P/3/wsABAAUABEAAADt/+r/9P/2//D/4f/n/+L/0f/l//3/7//+/xIACgAVABYABgAEAAMADgAVAAwADwAaACUAIwARAP//+v/8//j/8P/+/wQA+f/u/9//1//N/8//2v/l/+X/AAAaAPX/4P/d/+f/+P8IABEABAALAB8AHQAbAB0AJAAzACsAJAASAPH/6P/z//v/IAApABIA+P/c/+r/CgAPAP7/6v/c/+T/5v8UABcADQBAAD8AJgAGAAkADAAJACYAHQAMABwADQDv/9v/1//e////CQDk/+7/8//7/wQA2//T/9X/yv/f//L/AQDl/9D/5P8BAAoAAwABAO3/AAAKAAgA6f/v/wkA+v/y/+j///8MAPn/AQAfAB0AEgAgABQA6//t/wUAAQAAACYAJgAaACYAGQAWABwAEAAgABUAFwBBAEEAJQAXAAkA6v/f/9n/BwAvABYA9P/g/+D/4v/b/+f/AQDz/+z/BQACAPT/8P/v/+r/1//1/+//tP+x/9L/yf/a/xwA/v8CAAgACwAnAAcAAQAAABEAJQATAAUAAgD6//v/AAD3//v/AgD9//r/AQAMAOz/7P8RABcAFQAeABAA8v/q//r/HAAYAA4AAAAXADgAIAAkABQAFwAbAAYA+//4/xQACAAYACkAFAD5/+L/0v/M/wUAIADt/8z/5//w/+X/4//2/wAA8//o/9r/6//y/wAA8P/d/9H/u//Y/+L/5v/i//b/JABJAEgAPAAbAAcAHwAJAAYAFQARAB8APQAwABoADgAKAAEADgAZAAAAAgDs/+j/8f/i/+r/9//n/+L/6f/x/wMADwD7/9L/1//d/+L/7P/5/xgAIQAcABwANwBBACgAIgARABMAGAAOAP7/8P/4//z/8//3//n/8P8JAAYA9f/y/wAACgDu/+n/AwD4/+L/1v/N/+j/7v/i/9z/8P8JABMAFAD//+j/8v8EAAEAJwA2ACwAJgAQAAgA+//3/w8AIgAdABYAAAD//xEABwDy//H/9P/9//n/+/8DAAEAAAAAAPT/4f/o/9b/8v/9//f/CADj/8X/vP/e//7/FQAXAAEAEwAbAAAA9f/n/9P/5v8PAAgABAAbABQAHgArADYAJwAfACsANQBXAGMAPQAmABsA+//w/9j/vP/A/8L/9/8bAAsA7v/X/8D/w//u/9b/6v8OAP7/4v/h/+P/0P/o/wUACAASACEALAAtAAkAAAAFAAMAHQAaAPP/6v///wYA4P/X//v/CQAFAAQAAQD0////+v8CAAwADgAVAB0AKQAYAA4A9v8HACYAFAAEAN//2//t/+r/8f/v//7/IgAeAAIAAwAJAPr/9v8LAB8ACwADAAMA9P/2//T/+//4/+P/7v/7//T/8//R/9f/4v/s//n/9/8TAP7//v8OAB0ABgAAAA0A/v8PAAwAGgA0ACIACAAWABoAFwANABUAKgAXABMAFAAWAA4AFAD6/9b/2//l//v/5f/s/wQABwD9/+v/4P/c/+7/6//k/+b/7v/8/w4A///a/+f/9v/v//n/DgAGABQAIgD9/+3/AAD//9r/7v8JAPX/AgARAPn/4//s//r/BAAcABoACgALAPv/7f/+/wcAGgAsAEAAKwDh/8r/6/8FAP//AAD0//b/9P/1/x0ADgAPADYAVAA2ABsAFgD//yYAJQAPAAQA9v8NABYAHgAfABQAAAD3//P/1/+7/6r/tf/D/8//3P/a/9//4f/W/+D//f/6/wcAAQD1//H/4v8AAAQAFQAuAB4ADAAJABwAHwAdABsAGgAkAB8AEAAcAB0A/P8JABgABwABAPn/5f/H/97/CgAAAN3/+P8QAAUADAAOAP3/2v/b//b/9/8AAAwA+//7//n/DQARAPf/CAAGAA0AHgANAAkAGwATAPv/BwD7//L/BgD0//r/8f/p/+3/8f/z//T/AADs//T/+P/l/+X/9v8MAAIA5//4/xkAJQAiACcAIQAWACAAGgALAPn/+P/2/+H/5f/v/+P/9/8EAA0ADgAOAAkA/f8PABcAHwAOAAMAAADf/+7/BQARACYAEQD+//X/1//f//n/+v8LAAIA9f/w/83/1P/8/w8ABwD4/+b/yf/d//3//f8IAA4ACAAVAAoA/v81AFMAPQBHAE0APgAsAP//2P/o/+r/4//w/+v/6//b/+r/AQD5/wYAEQADAOr/8P/6/+L/4//t/+H/z//l/wAA6//X/9D/4P8EABEAHAAEAOD/CAApADMAKgAaABQAGgAjACIAFQACAAkAEgAMAP////8FAPr/9//8/+z/8f8BAAYA/v/v//n/4v/N//L/+//5/wsAHAAjAA4A/P8PABoADgD6/xAALQAhABAAFwAeAP3/6P/e/+f/5//n/wwADADx/9//7/8AAOz/7v/q/9H/2f/u/wEAAQDo/+v/AgAQADEAKQAVAAwACgAGAPP/+v/8/wYAAADq//D/8v/6/wAADQAfACIAJwAnACMAHQAcAB8AMwAtAA0ACQD7//H/+f/s//H/5f/c//H/9f/w/+X/1P/T/+7/AgAEAOP/yf/B/+7/AADm/+3/6P/k/wAADwADAAkAHgAjAAgACQANABMADgAMACgAFAD//wAAGwAUAAIAFwANAP//6P/d/9b/5f8MABMAIAAcABAADgAFAAIACQDv/8b/9v8IAPT/JwArAAQA8P/4/wMA/f8HAAMA+P8DAAcA+v8SAB4AFAATACMAKAD0/9z/0P/J/8z/4/8DAA0ABgAGAAcA+v/m/9//AAAMAAEA4//W/+n/9P8DAAEA5v/q/+n/6P8CABgAIAAQABMAIAA7ADgAHgATAAUAGAAIAAgAFAAUAAEABwAfAAgADwACAOn/AAAHAOH/4P/1/+j/2f/b/9z/1f/b//L/+/8GABoAIQAoACIACQD+/+//8P/+//z/7//o/+f/4v/o//f/DgAKAPz/3//R//f/DgACAAAAAwALACQACQAFABgABwAUABkAHwAUAPH/8f/3/wAA+P/b/+P//v8RACwAMAAZABcA/v///xUACAAZACsAGQD3/+n/6//3/wMACQAWABoAGgAXAPn/6v/c/8X/z//4/xEADAAiABMAAgD9/9f/5v8SABUAGQAVAP7/7//g/9X/wf/o//T/6P/q/+7/BADz/wAABAABACUAHQD7//b/8f/q/wMAIwAsACEACQDp/+//EAAqABsAAgD+//H/+v/7/+f/1P/h////6P/j/wsA+P/p/wAA+f8FABEADgAcABQAGwA0ACIACQAGAPX/+v8RAA0AFgAEANv/z//o/wUAEAARAA8ADQAZAB8A+//x//j/5//u/wkA+//j/9//3v/d/+L/7f/y/+z/9P8KAAUAAAAKABsAEwAQAB4AKgAkAB4AHQAwAEwANAAdACEALgAGAN//1v+//7v/yf/c/+7/5P/1/xkAEADr/9z/3P/l//X/+v8IAA8ABQDs//X/9v/p/+X/AgAEAOj/+v8EABMAGgAVAA8A///w//D/8////xYAHwAlADMAQgAzABcADgASAAoAEAD3/8n/4P/z/+j/8P8FAPP/+f8EAPD/7v/d/+T////7/9v/x//f/wEACwD5//j/+P8BACgAGwAFAPT/3P/q/wcAEAAmADEAKAAwABwA+//l/+v/EgAjAB8AJAALAPf/8f8AABEAAgAEAA8AEAD1/+//7P/O/8n/6/8HAOj/6v/6//P/+f8PAB4AKgAwABIAFAAjACIAFwAEAP//+f/8//P/4f/0//r/9f/1/+b/4v/f//P/BgAQAAkA8f/t/+v//P/1/+3/9v8EABYACQAVACUABADh/9z/7v/z/+n/9P/i/+T/8f/2/w8AIwAiACAAKQALAPH/+f8QAAgA/P8YAA0ABgAfAP//AwAaACgAFQAFABMA7P/g/93/6v/9/w8ADAD9/xEABQDt//n/CAAgAD4AQAATAOz/+P/u/9r/7v/6//r/FAAiABgAAADY/8z/0P/Y/+7/6f/w////9v/n/+n/8f/u/+3/4P/9/wgAAwAQAAQA/v/7//r/9P/4//X/+v8EABUALQAZAPj/+P8JAAUAFQAcAAcADgAEAA0ADwADACcANwArAA0AAADy/+3/5f/i/+7///8BAOT/AQAgABEA6f/0/wMADAACAOT/7P/3//7//v8AABUAJAAOAA0ACAAEAAoAEwAfABEA8v/x/wAA9v8FAAwADAAPAPz/7P/t/wQA7v/G/8L/w//Z//j/CgABAP3/DgAZAA4ACAAAAP7//f/w/9//w//g//n//v8OAAUABgAFAAAACAAVAB4ADQAVACkACwDs/+z/2P/R/wMAOAAuABoAHwAoABsABgAQAAAA8f8KACEAHAAmABoA/v/z/+n/+/8EAPT/8P8AAAkA9P/p//b//v8OAPP/9f/x/83/6P/6/wgADAANAP//AQAaABQAFAD5/+L/9f/+//b/+v8eABYAAwD3/9f/8//4/+v/5//u//r/7v/s/+f/z//f/xIAIwAiAB8AHwAXABIAAQDz/wUACwDy/+3/5f/p//L/+/8PABcALwAxADEAGQAMABEABAAAAPj/AAD//+n/5P/p//D/9//0/+3/8P8BACMALgAEAPb/9v/l//T/5v/k/wYACwD//xIAEgDx//z/EwAZAAIAAwAMAA4ABgD9/wAA7//r/wAA/v/f/9j/6v/t/9f/9f8RAAgACAABACcALwAPAOz/1//d/97/+P8LAAsAAAD2/wAAJQAbAO7/6v8AAAwALQA8ADMAHwAKACEAGgAJAP7/EgAdACgALAAeAAsA6P/Q/8z/5P/P/9X/9v8EAPH/9/8WAPb/5v/X/8r/4v/w/+T//f8OAAoAIgAQAAkAGQAcAAEA8f////f//f8JAAgAAQDj/9r/2//p/wsAJQAaAPH/6v/p/9////8BAP//GgAUAAgA//8MAPj/9/8yAEMAGwDu/+j/8P/m/8v/y//Z/+j/DgAVABMAEgD4/wwAHQAPABoAJAASAAAA9P///wsA8P/w/xMAKgAbABUAFgAdABsAHQAgABMAJQAdAAkA7P/b/9j/2P/3/wIA8//N/7b/2v/z/+P/7f8AAAAAAAARABYACgAXAA4AAAAHAA4ACAD9//X/BAALAPj/HQAtABoAAwAAAPL/0v/f//H/7v/n//7/CwAWAAQAzP/Q/+H/3//w/9//1//m/wAAGAAAAOf/8v8TABsAKQAxACgAIAAVAB8AIQALAAgAGAASABMAKwAwACcAEQD4/xwAGwDj/+D/8//7/wQA9//q/+D/2P/p/+b/1v/Z/9f/2P/u//r/8P/2/+//5/8JABMAFgAQAAgA9f/v/wYA+v8GAB8AEAD6//n/7v/0/xEACgD5//v/DAAsACQAIQAlAPv/5v/0/wAA9v8QABkAAAD6/+//8P/V/+b/AAATACEAEAAIAPX/9f8UACYAIAAXABIAJgAhABIABgAMABEADQD1/+X//v8IABkALAAIANv/z/+x/7P/x//Z/+P/6//u/wkAEgDy/wwABADv//b/2P/C/+D/5f/Z/wAAFgAbACUAEgADAAsAJwAvABMAGQAdADEAJgAAAAMA8f/6/wcACQD9//j/+v/1/wQABwApAEAANQAZAAAA6//U/9j/3v/s/+z/9v/8//v/CgAIAP3/9//k/+b/DAAiABYA9v/v//T/8v8AAAMA/P8FAAQABwAFAPz/+P/k/+n/DwAuABAAAQDz/+P/3P/Z/+3/5v/f//T/HwAWAAkAFgAdABoAAAD3//n/DgAWACoANwAaABYAFwALABUAPAAjAPX/BQANAPz/7//a/9b/1//B/93/9//b/9b/0/+6/8X/CwArACAAGwD+//D/7f/+/wkA/v8FAPH/8f/1/+r/6//v/+3/5v8IABYAGQAOABEAIgAQACEAOAAaAAcALABEAEkALwAxAD8ALgARAOL/2f/j//b/DQANAAAACQD0/9j/1//g/9n/zv/K/8H/xv/M/+3/BwARAA8A+P/8/ywARwAaAPb/AgABAOz/1v/b/9z/4P/7/wwAIgADAO7/AADs/+X///8dACUAKgApABwAEQD1/wQADAAOABYA5f/E/8b/1P/0/woAEgAFAAcACQD6/+3/AQAeABMACgAWACsAKwAWAAgAGAAVAAgAFwAnABoA6f/Y/9v/5P/+/+z/CgAlAPz/0//M/9//1P/6/wgAAAD7//f/8v/1/wEA9P/u//n/GQAXABsACwDw//3/DwAUACUAMQAWAPf/6/8JACEADwDx/97/7f/5/wAABADo/+X/CAAaAP3/CQAUAPH/CwAhAAQA8v/t/9n/2f/+/wUA7f/t//b/9//7/+z/5P/m/9r/1/8DADAAKAAgAAIA+v8LACcAPgA1ACMACgAAAAcAEQDk/8z/3v/m////DwDl/9j/+//u/+L/4v/t//L//f8IABoAPwAhABUAFwAUAB4ALABMAFcASwAsAB0A/P/I/8T/7/8LAPv/2//m/+v/6//p/9H/1//l/9r/0P/O/9P/8//0//b/AgD5/wMAAAABAAkA/f8CABgANwAmAAwAFAAHAAoA/P/x/wYAJwBHAC4AMAAnABwAKAAZAPr/8f/7//7/7//b/9v/1f/l/9z/6f/n/8j/1v/e/+L/3f/y////6f/n/woAGAD4//T///8EACYAIQD4/+7/+//x/+j/LABBAEgAZQBUAFQARQApACUAOwAcAP7/5v+9/7z/uf/X/wIAyf+S/7f/yP+8/8z/6P/9/wAABQATABEAJAAtAAcA/P8RABUAEQAUAA0A9v/u//L/9f/y/+z/AQAGAO7/4P/c/+j/7//3/wcAAwAHACcAUwBZAGUAbwBoAGMAPgBQAEEAGQAMAAEA4P+p/6z/xv/K/7b/uv+//7r/vf/C/87/1P/I/93/8v/+/xIAFwASABYADgAOACYADQACAAYA///2/97/3f/h/+P/4//6/wMA+v/4//n/+/8AABkAAAAJAC4AYQB5AGAAbwBgAEkASwBOADsAQwAUAN//5f/L/8f/2f/H/7H/vv+k/4X/nv+1/93/+P/r//j/6/8FACwAHAAeABgAEAAJABkABADN/7b/vf/z/yEALgAQAN3/4P/c/7P/y//q//r/HwAsACQADAD3/+j/HgBsAHUAkgCeAJEAfQBsAEgAQwAuAPP/2/+6/7T/u//V/83/sv+g/63/qP+A/5H/sv/B/83/2P/p//7/FAAwACEADQAxADwAFwAHAPz/2v/V/+X/3//2//v/4f/j/+L/6v/p//b/CQDz/wIAIgAgAA0AMwBpAHMApgDHAKUAfgCWAI0AagBBAAEA5//A/6D/pP+5/5P/kf+J/1P/VP9n/4r/ov+m/6//3v/1/x0ARQBGAFIAbgB0AFcALwAgACoADwAJABkAFQDs/8n/qP+k/7j/yv/A/6v/rf/B/9H/xf/d/+7//v9KAIcAqgDQALoApwC1ALIAmwCSAFgAFgABAM3/k/+g/4r/Yv97/3T/X/9O/0H/U/92/4n/rP/v/y0AVQBmAHEAgwCKAJ4AlQB/AH4AYQA5AAUA5f/L/63/nf+L/4b/eP9j/2L/dP99/3H/kv+n/8X/AQBcAKkAvAABASgBBAH4APoAvACyAIkAPAApAOL/vv/M/9z/of9X/yb/Av8R/xX/Pv96/5X/oP/I//H/FgBMAHMAnQCrAMIAwgCeAHoAVgA+AAUA3P+y/6X/mv+E/23/Tf9J/1b/YP9M/2D/mv+6/7X/4P8MAEIAggDYAE8BaQFGASwBHgHqAO4ArgBBACgA9f+c/2T/LP8L/wf/0f7D/tj+7/4K/zj/WP+T/9b/CABbAKYA2wAdAUUBOAEcAf8A5wC7AHwAQgAXAOP/0f+Y/0b/Gv/9/vD+yv7W/vH+Df8k/2D/o//A//3/XADPAAEBRAGrAcgBuQGbAUUBDAHdAIUAPQDu/4T/Lf8R/+P+sv6X/m3+Z/6i/tj+Gv9w/8D/8f9JAJQAsQDnABYBOAFAAUIBKwEHAd4ApAAwANj/qv94/zH/4v66/rT+1/7g/ur+Af8J/zn/kP/W/+3/NwCqAA8BVQFqAZABxQHUAdoB4AGOAT4B7gB/ACEAuv8+/+D+n/5V/iP+Cv7y/dj9/f06/oj+2P4+/8f/QwDTAD8BgAG1AeMBBAIjAgUCsQF2ASUBpAAoALf/M//P/nL+A/7E/aH9fv2N/c79HP6N/hn/kf8GAJoASAH3AX8C3wJFA4oDfgNeA0EDtAIGAnIBqwDh/xX/Lv5j/dT8b/wi/BD8H/xR/Nr8av0J/un+0f+KAFMBKALRAkADhgO7A6ADYgP0Am0C9AE/AXEAov/X/gz+Xv3Y/IP8KfwX/EP8ivwE/Yf9P/7//tv/nQBgASsCBQPIAxkERwRgBD4E8wOpA/sCDwI2ATYAMv8t/iv9HfxS++n6fvpS+m36t/po+2b8d/3T/k4AwwESAz4EWQUbBo0GoQZ3BhAGYgVaBCcD3QFiAKn+3fxi+wL64/gX+Iv3b/fK95T4r/kK+7H8tf7FALkCmQRgBikIzAnnCnwLhAvaCo0J1webBfECUgBw/a/6Y/h+9hP1L/TZ8/nzwvQb9tn39vmN/Fv/BQKdBAEH9ghsCjkLpwuvC/wK0gk4CDAG/AN7AdD+LPx8+Sv3XPX18+vyePLQ8uXzp/XN9xn6j/xJ//8BxgShBzUKeAyODuUPUxDkD5MOegyaCTkGZQKt/h77r/fp9A7zzfFB8YrxWPKv86T1+vev+rT9ogCOA0AGdgg9CpYLawymDFEMZQvWCfYH2QWzA0gBhf6Q+234YPWm8ujwKPAs8Bvx6fIt9Q34Tvt5/scB6gRrB3wJ0wsNDxQSqhQMF2AXFhWlELAKeANE/I32yfHa7jbuU+5J72fxa/Ob9Z74zPuG/kkBegMmBDAEnwOSAiMCogIABFsGKgnWCzENVQxqCY8Emf42+HryRe4Q62LpNukf6vXsbPFC9x7+qQOIBlQHkAUhA0wDxghqFM4g+CskM4gwkyVFFj8FdfWs6w3oKeel6a7tX+918cH0w/a5+fj9/f9q/1f9SPk/9D3xZ/Hv9Bj8QgQMDIMS5RXPFqMUrA8QCQQBs/gE8YvrE+k36cDr8u478oL15ff1+ov+T/8l/ZT5SPXf82X5bAtCJPg3EUbFRvY09xrrAUnuV+RO55zvOvWj+nr7a/aV9Qr3yvcU/YMAmvyr9aDrH+Be25/hSe/lAYoV2yBZIrkdYBSIC9sFSgKy/xH8wvaN8NDsT+wF8Fn2A/qG+zn6BPZZ8w3zSvJJ8AnvMe8m81X+lhqDPaNOOFOdRUghA/716PvjWe3i/9ILSgU8+tTvY+eD7qH9oQT+Bev8jeXI0u3LVdAx5pcEahsdJnAjqhRRBlsD+QjIElYajhYRBwf0BebT4V3pyvM3+9T+CPpO88vwbu//7+Lyu/Mg8D/s8ulL7eX2RxKiQDNYb1hzSUgefPP94OTmbfx8FFQfiwtE8H3jTuDh8fINdxJjAE/lk8Nrtu/LOe1oDo0kqiBwC2T3P/JN/jUYvy4AMFYgRgRr5zTbouHg8YwCVwh8AlT7m/Xe8dT0Y/as8/vwr+2F6a7pvezM7oPyFwuoRkZmulq3PXEFCtbO0wj2VR5nMX4oqPu+0k/X2/AgEZMjnQiqz/Ct4q3jzBMKdi6THrT6b9wG2bv6eyuhRgY8mBp/9HToDfoWDRsSowR07X/ipOzW/QMLoQkl82/dlNsD5x77xwSh+abjzdYA2E3pSw3eTFN6cFzYJk/6FOK38Y8avjORIysCcOTT1p3zEBhKGSv9ctbauAHAre6lDw0QtPsN2DnMVuuPEy8oQCTmDl35tQCVGksrRyfoBQniA9UE46gAjxV8D/34dujk5aLt8/n2+3Px5+gH5G/lDuz38wPyd/XrAw5D538tYd0jqPXf4kn2nSHbN5caJfLZ4qrj+gClGhkGM+Atz87QsOTiBNoDcurz4JDko/O3DNUPUwDt/uwOtCJ4MeErDw6a7n/jI+ma8q7+OgFg/xf9Pvk49mLzI/Ji8nTuo+dy5mHot+kx6m7vV/UE/j0JE0v/f05Qww1K77D2Lg7lK3opFfwQ40Dw8QX8Do8JyOlfzM3ccu7Q+Hn4M+m83onnofhl91b4ufzuCkMbOyZrI18TBQwdCaABQPYh9if4l/sGBfYH/PyW85v0Hu3l5hDoDubW5mrxR/EE7lLukPWo9cD5ZQRxNzR7AFIzChDxCQs/JMkkexj09OfzMAoKF4wDCuVK3bvjBvzF+C3neNYK1ertVP9a+cvok/AEAv4VQRUHDvYRlBrVHZYPDwC08Yf1TQFG/tf3oPlY/f/6zPRx3y/Wk97e7kj1rPl492juC/Ac7aHpzvomD3wsrXUrX3wUnf7oF1AvnR20DJj4TQcnHNgLfucp1Gfk6PVHCPfttcp92I7xpP1t84rjythH8cURbxvjDU0Nlh4eKFkhrQem+KH9kQL/+i3zPvJx/ioCXO2f3DrXCOUf98L69vQj8pbzsuwu6mXfZ+mx+jMPPRQ0Qipw4DnAETkR8yr0Jc0NSgO9AuYMjAQs7SHYeO2b/pX0kOXs04fdWvqtBPbqv9cD3K/xiAo3FzoSSw6ZIr8tYx52DEcHIgXJB7UAh/Ex7038VP7t7VjiAeRR6XLwuPOc7Snp1e1t7Rjuve9S7pL0yvrLAu0Oxk7PXaYxzh6ZIRI0GB+ZAqEAvQ4vCDz6gOoh3gTxaPoQ8R7ict+t8H728uNI1GTdjfbqCtAPqw4eC+QS+R+SHoYNQge6D5IOpQQS+MPyB/dU+5nxf+gJ5dnlK+xb7jzrG+1n8abzmvFg67PkN+yy95wFWQ0sJCRaGFHaLpsh9yiiMesg/QJK/T0K2QJn8lbgpOWb+YH4Luit3enhP+3J6ZHabtsB76ACrgzHB1kHfw//FiIaTxQeCUANDRVlEO4El/VD8Yj1NPPg6Rvk3+XA6qrv9PLv9lf30/bc87n11Pqa/xkDtwRzCNAJmglqCmQVLRnMEGUOCBjMHYciOCGyFngUURZZDqsDcvwF9YP3NveA7RnlXOPC537y7vTX8fXzbvXc+Cv89/ck990A1gFtA1oIpge9B70KrghDBU0DYf87/e/2G/Om9Mj1J/O28Tbuj+3O8Urx2O4H72/yFfgI/eP7uv3ZA+wQSBpvGfYe7CxGLlssGixAJl4oECjEGSsKiABk+FX4tPH64nbbPNxI3x7hJ97538Xnaem67BjzB/ggACkIqAjCCFoMkxGdFjsUyQyrBvABIf/v/RT5jfPc8f/u/exn7Dfpbulo73byMPJJ89f1CfoAAKsF6AifDrcZFB0OG1kgLCcCKmQtJyq7JNEjDRwHD40G4Pzb8xztwuJn3WfeZN7n3lLgReKS6UDtZ+2D8lT5jv1NBEQIDwg5DCoRWBGJD48NZgoiCjUJlwQQ/w36/vQs8jnvleg95b3nnOwD8Fry3fXd+Z/8mwD5As3/Cv+kAkYM6BUSFh8ZUyehLnMu3CseIy4glh6tEi4H3v769F3zy+8S5qnhbeCp4BfkwOEU4KboVPAr9UT4cPkb/scGwQiNBTsErQcRC8ILUQmSAxUB8QKnAWX7Afak8kj0SPai8xXxyvLA9sf4tvc097z4tfpf/db+IwBwBHAL/xSDGo8a+x/RJqwlyST4IQAd3R1oGdQNSgj/Aif7bfWp6pTituJH4kvh++Fl4mTpEfGI8VPzVfeo+of/8gCE/zsDYga1B2oIiQZPB1MKPAjbBWsDJf9S/ln7qvRj8VPwvO7Q7hDvzO9L8rv1cfZp9tL6o/5f/oEA0wQUC2wVNBhqFyMgnShiKIcmZCKqIPMhehmBDFAEwf8O/VX2Q+uA58boYOr16rHlJ+PJ6aTtW+wg7LnsdPLE+dX7Mv1/ATgHmAwzDlcNFg3ODAINZglEAkH9Svq+90b1dvFP8ADynfIY80/zgfQu9nT1jPTf9z77p/47AbMDrwqIE9YXvxn2HfAipCanJUwigB8xHkQahhLRCUEDQf+g+grzROtH52zmyebm5FTituOE55jqM+3F7oXxAffO+9/+/AA+AwkHBApSCoMJfAgDCDQH6QNCAHf9Dfv6+IT2afON8YTwc/D08LjxPPOo9Fv2oPjh+17/fgMNB/IL5xG/F6scbCDkIxsnjCgbJ84kaSGoHTkYDhFdCYMCvvvO9K3tROeB423hc+An4IbgfeKl5cbocOze7zPzkvct/JAAmgTLB5IKvQxzDbYMawowB8UD7f/2+yX4yPSC8tDwHe+K7pDubO8g8QjzI/XO9+/6hf6wAlwG/glMDSsRPxVLGQYdIiCvIsUkjSWjJHQirh77GQAUuAyeBAf9Bva97wrqkOUC49zh2+F24pHjeeUz6HbrLe/j8uT2xPvOACcFBgh+CUUKBwodCCkFyAHJ/pD8oPrL+Er3bfbP9Tj1qPTH9Hz12vZo+C36aPy6/swAdwL4A20FRwebCb4MmBDaFOUYbBzFHuEf1x+nHjocrhhdFGoP/wlEBKT+ZPno9NXwXe3B6gbpH+gA6H7oeek/6+ztDPFS9NH3P/si/j4ALQFHAQQBTwBt/5X+Gf5H/nv+Vv61/er8SfzA+1X7A/vz+jz78fuO/DL90v0y/nD+pv7+/jkAKwLFBNwH0QrODcsQThNOFeQWrxc3GPQXvRbbFD4SVA8uDMwITgWGAZr96fln9kLzvPCh7j3tnOx57P/s7O0j743wu/HE8uLz8/RP9rv3D/mU+ij8cf19/kn/w/8bAGoAtQDfANIApgBOAOb/gf/x/on+JP7X/bb9rP0S/s7+EACsAVsDhQUPCAQLOA7yEGYTghUKF+4XABidF5wW7BS/EswPCgzfB2QDAP/t+iX3zfMI8dTu++yj69Dqi+qQ6ubqjeur7GjuavCB8qb05fbw+OX6zPyR/i8AkwHbAgAEygQ1BRYFwQRMBJ0D3QLmAfkADgAU/0n+xP22/T/+Bf8OAHwBSwN+BbsHzQmbC04NyA7uD94QmREXEigS+RE+EeQPDw7DCywJbAaUA7UA9/0c+y34jvU78y/xju837gDtF+y/69HrU+wQ7Q/uZu8I8fTyLvWv90X6xfzv/usAcQKGA00EtAS+BHoEAgRyA98CbAI+AjoCkwIpA+wDvgSNBUwG9AaRB94H/QcRCDQIVAh+CNcINAl8Cb8J2AmtCXgJLwl+CJYHjQZ9BYoEXgMoAvIAqP9G/s38UvvV+Tr4ivbq9FvzCvIC8SHwi++K7/zvwfCY8ZTyy/P69EX2nff0+Bb6Lvtd/JD94f5BALIBJwOdBPoFQAd6CIAJCwpGCkgKKgr5CYQJ+gh4CPkHpAdrBzkHJwcKB84GfQY/BiUG/QXHBYcFNAXKBEQEuQNIA+YCWwKiAb8AzP/U/rz9kvxi+z36HfkK+Br3O/Z49dT0ZfQS9LbzdfNp87HzE/Su9Kj1sfbi91r5yfoZ/JD9If+aAP4BYwOEBHEFSwbqBqYHSgi2COsI5gjECJIIhwiBCFoIFQjEB0YHvgZVBuoFbQX7BIUE3QMtA5cCIwKMAfIAVACU/97+Iv5b/an8Kvyi+y771/pt+gn6qvl7+Xf5a/l++Z35yPkh+qf6RPvt+5T8GP2x/UL+yv5f/9//SwC+ACEBOwE8AWIBmAG8AdIB3QHdAeIBCgI0AoAC9AI1A1wDbAOZA9wDIAQ/BCgEKAQbBPwDwAOIA0UD5gJtAtwBOQGHAOT/If9N/oL9uPzf+xH7T/qt+Sv5ovg/+BD45/ft90j4o/gZ+cr5mPpy+2z8cf1x/oz/wQDSAcQC1QPWBLwFZQbrBmAHzQcpCGUIfQhnCEoI9wdlB9kGcwbrBT0FewStA+ICIQJjAaEAEAB+/+/+af7x/Y79Lv3f/Hv8IPzZ+4T7RPsA+6X6YfoR+pb5CPmp+Hv4Uvgx+C34Vfiy+CP5tPlj+iP7CvwF/RL+If89AE8BWQJlA1kENQUhBvAGewfeBwkILAg0CBsI1gdJB9UGXAbLBTgFmATuA2YDAgOFAiQCAAL2AeEB3QG3AXwBPwESAeQApQBhAML/+v5B/oL9lPyc+536kvmC+Hz3qvYG9qz1dvVY9Xv11fV+9l33aviW+dP6N/zH/WD/9wCIAvgDYwWPBpEHUgjiCFIJgQl2CRsJxghdCLEH8wYoBjAFPARLA2ICrQEHAX4A/v+a/07/NP9U/3z/nf+m/77/vP+a/4P/Tf/n/k7+jv3V/CL8Wftt+pT54fhK+NP3h/dX92X3pvf+95z4fPly+ob75Pxh/vb/lAEvA6wEDwZGBzUI9AhvCYoJXgkOCY0I7wc6B0EGCQXBA4oCVQE9AGb/mP7S/TH9v/yH/KT86/xN/cz9X/77/qX/PQC+ADQBgwG0AawBjgFHAdQARgCY/8n++/0+/ZX8BPyA+yb71vqb+qT62vos+6j7QPwF/fD96/7j/8kApwFjAvsCfAPtAzkEggSlBI4EaQQDBIsDJwOsAiICjgEJAYQA9P9z/y3/Iv8Z/yP/OP9N/2b/qf/2/yEAUwCMANQA/AARAR8BFgHrALEAXwDY/0r/zv5J/rH9Pv3r/Lj8dfwx/Bn8Efwb/Eb8ofwL/Yz9Kv7Q/nb/EgC7AF8B8QFtAs8CMwNpA5UD1QPXA7sDiwMkA48CDAKyAVMB6QB6ABwAyf9z/0L/Mf8f/x7/FP8e/1H/hP/K/yIAiADJAPEACwEfASABEAHaAIsAOAC+/0//5f6A/h3+tP1P/QL9y/yV/H/8kvzA/Az9V/2o/Rz+k/4M/5H/KQDFAFABvgEjAmgCiAKwAsoCzwLNAq4CZAIRAsMBeQFBASgB8ACZAG0ASQA9AFUAWwBsAJkAuQDYAP8AJgEwASoBLwEkAQMBtQBjAAsArf9M/+n+j/4r/tH9dP0d/cf8nfyY/KH8u/zd/B79bf24/eL9HP6I/vT+W/+4//v/SgCfAO4APgFwAaMBwAHSAQYCKgI4AjoCQAJMAiQC8wHbAbcBmQGPAZIBgwF2AW4BUwE2AS0BKAEFAeQAtwCRAGcAPQAaAOL/mP9P/wv/t/5m/hz+5P2z/Zr9jv1z/Wb9d/2D/XX9j/3S/RD+OP5Z/qf+Dv94//X/YwCmANUACAE1AVgBbgGIAZMBiwGZAZkBfwFrAV4BMQH8AMgAlwB9AG8AaQBiAG0AlAC1AMQA2gDyABIBKwE1ASABCQHSAI8AXwAPAMD/X/8H/7X+RP7n/Z/9Yv1I/SH9CP0b/Uf9iP3c/T7+of4p/6P/HQCkAA8BlQH9AW0CwQLDAqECbQJAAggCyQGBAT8B9wCcADEA3/+e/0//HP/z/s/+0f7r/v7+J/9y/8n/HgBmAK0AygDOAN8A/wAPAe0AwwCWAGQAHgDa/6//bf8q/9/+kv5s/kX+LP40/lX+eP6x/tv+Cv9N/5P/BgBoALsA5AAIATQBMQErATUBTwFhAV4BRwEgAf8AyQCHAFoAEwCx/3//a/80//v+0v7Q/sT+tP7O/un+D/8p/1v/rP/4/zsAdQC9AAsBXgGQAbEBxwG7AYMBQwEoAREB9gDOAJMATgD5/5f/TP8N/8T+gP5K/jv+N/5N/oL+nP7C/gT/Rf+T/+D/MQCIALsA7QAWASUBBQHDALMAqQCZAIcARQD9/7P/ev9b/zj/Jf8Y/wb/9/4E/zP/cv/F/yYAYQCGAMQA4QAnAYIBsQG1AaUBjAFPARkB6wDMAJMAVAAjAOH/if8w/+T+of6F/oH+ev6E/qn+0v74/iL/Wv+P/73/5P8jAGoAmADPAPYA+QDuAN8AxgCeAIgAegBnAE4AIQD1/7z/mf95/13/av+A/4L/ZP9a/17/ZP90/4n/qP/b/xkASQBEAEwAWABPAFcAXgBuAIQAnwCYAIEAbgBYAEUAPAA5ACUACwASAA0AAwAPAAIA8v/o/+D/2P/P/8j/2v8AABcAJgBDAEsAPgAjABoADAAJAAcA8f/p/97/1P/N/8j/nf+I/4r/Zf9U/13/X/9j/27/fP+N/6H/sf/U/xcARABGAFsAZgBYAHAAngDHAOsA8QDZAJgA\" type=\"audio/wav\" />\n",
       "                    Your browser does not support the audio element.\n",
       "                </audio>\n",
       "              "
      ],
      "text/plain": [
       "<IPython.lib.display.Audio object>"
      ]
     },
     "execution_count": 22,
     "metadata": {},
     "output_type": "execute_result"
    }
   ],
   "source": [
    "#reading the voice commands\n",
    "test, test_rate = librosa.load('one.wav', sr = 16000)\n",
    "test_sample = librosa.resample(test, test_rate, 8000)\n",
    "print(test_sample.shape)\n",
    "ipd.Audio(test_sample,rate=8000)"
   ]
  },
  {
   "cell_type": "code",
   "execution_count": 23,
   "metadata": {},
   "outputs": [
    {
     "data": {
      "text/plain": [
       "'one'"
      ]
     },
     "execution_count": 23,
     "metadata": {},
     "output_type": "execute_result"
    }
   ],
   "source": [
    "#converting voice commands to text\n",
    "s2t_predict(test_sample)"
   ]
  },
  {
   "cell_type": "code",
   "execution_count": null,
   "metadata": {},
   "outputs": [],
   "source": []
  },
  {
   "cell_type": "code",
   "execution_count": null,
   "metadata": {},
   "outputs": [],
   "source": []
  },
  {
   "cell_type": "code",
   "execution_count": null,
   "metadata": {},
   "outputs": [],
   "source": []
  }
 ],
 "metadata": {
  "kernelspec": {
   "display_name": "Python 3",
   "language": "python",
   "name": "python3"
  },
  "language_info": {
   "codemirror_mode": {
    "name": "ipython",
    "version": 3
   },
   "file_extension": ".py",
   "mimetype": "text/x-python",
   "name": "python",
   "nbconvert_exporter": "python",
   "pygments_lexer": "ipython3",
   "version": "3.7.6"
  }
 },
 "nbformat": 4,
 "nbformat_minor": 4
}
