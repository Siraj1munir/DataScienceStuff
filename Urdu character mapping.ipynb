{
 "cells": [
  {
   "cell_type": "code",
   "execution_count": 1,
   "metadata": {},
   "outputs": [],
   "source": [
    "import epitran"
   ]
  },
  {
   "cell_type": "code",
   "execution_count": 2,
   "metadata": {},
   "outputs": [],
   "source": [
    "text_data = []\n",
    "with open('Names.txt', encoding = 'utf-8') as f:\n",
    "    for line in f:\n",
    "        epi = epitran.Epitran('hin-Deva')\n",
    "        a = epi.transliterate(line)\n",
    "        text_data.append(a)"
   ]
  },
  {
   "cell_type": "code",
   "execution_count": 3,
   "metadata": {},
   "outputs": [
    {
     "name": "stdout",
     "output_type": "stream",
     "text": [
      "d͡ʒɔn\n",
      "\n"
     ]
    }
   ],
   "source": [
    "print(text_data[1])"
   ]
  },
  {
   "cell_type": "code",
   "execution_count": 4,
   "metadata": {},
   "outputs": [],
   "source": [
    "dictionary = { '∅': 'ا', 'b': 'ب' , 'p': 'پ', 't':'ت', 'ʈ':'ٹ', 's':'ث', 'd͡ʒ': 'ج', 't͡ʃ':'چ', 'ɦ':'ح', 'x':'خ', 'd':'د', 'ɖ':'ڈ', 'z':'ذ', 'r':'ر',  'ɽ':'ڑ', 'z':'ز', 'ʒ':'ژ', 's':'س', 'ʃ':'ش', 's':'ص', 'z':'ض', 't':'ط', 'z':'ظ', 'ʔ':'ع', 'ɣ':'غ', 'f':'ف', 'q':'ق', 'k':'ک', 'g':'گ', 'l':'ل', 'm':'م', 'n':'ن', 'v':'و', 'ɦ':'ہ', 'h':'ھ', 'j':'ی', 'eː':'ے', '∅':'ء' }"
   ]
  },
  {
   "cell_type": "code",
   "execution_count": 5,
   "metadata": {},
   "outputs": [
    {
     "data": {
      "text/plain": [
       "dict_keys(['∅', 'b', 'p', 't', 'ʈ', 's', 'd͡ʒ', 't͡ʃ', 'ɦ', 'x', 'd', 'ɖ', 'z', 'r', 'ɽ', 'ʒ', 'ʃ', 'ʔ', 'ɣ', 'f', 'q', 'k', 'g', 'l', 'm', 'n', 'v', 'h', 'j', 'eː'])"
      ]
     },
     "execution_count": 5,
     "metadata": {},
     "output_type": "execute_result"
    }
   ],
   "source": [
    "dictionary.keys() "
   ]
  },
  {
   "cell_type": "code",
   "execution_count": 6,
   "metadata": {},
   "outputs": [
    {
     "data": {
      "text/plain": [
       "dict_items([('∅', 'ء'), ('b', 'ب'), ('p', 'پ'), ('t', 'ط'), ('ʈ', 'ٹ'), ('s', 'ص'), ('d͡ʒ', 'ج'), ('t͡ʃ', 'چ'), ('ɦ', 'ہ'), ('x', 'خ'), ('d', 'د'), ('ɖ', 'ڈ'), ('z', 'ظ'), ('r', 'ر'), ('ɽ', 'ڑ'), ('ʒ', 'ژ'), ('ʃ', 'ش'), ('ʔ', 'ع'), ('ɣ', 'غ'), ('f', 'ف'), ('q', 'ق'), ('k', 'ک'), ('g', 'گ'), ('l', 'ل'), ('m', 'م'), ('n', 'ن'), ('v', 'و'), ('h', 'ھ'), ('j', 'ی'), ('eː', 'ے')])"
      ]
     },
     "execution_count": 6,
     "metadata": {},
     "output_type": "execute_result"
    }
   ],
   "source": [
    "dictionary.items()"
   ]
  },
  {
   "cell_type": "code",
   "execution_count": 7,
   "metadata": {},
   "outputs": [
    {
     "data": {
      "text/plain": [
       "'ب'"
      ]
     },
     "execution_count": 7,
     "metadata": {},
     "output_type": "execute_result"
    }
   ],
   "source": [
    "dictionary['b']"
   ]
  },
  {
   "cell_type": "code",
   "execution_count": 25,
   "metadata": {},
   "outputs": [],
   "source": [
    "new_list = []\n",
    "def convert_to_urdu():\n",
    "    for ipa in text_data:\n",
    "        for key in dictionary.items():\n",
    "            if ipa in key:\n",
    "                print(\"key is here\")\n",
    "                ipa = dictionary.values()\n",
    "                new_list.append(ipa)\n",
    "    return new_list"
   ]
  },
  {
   "cell_type": "code",
   "execution_count": 26,
   "metadata": {},
   "outputs": [
    {
     "data": {
      "text/plain": [
       "[]"
      ]
     },
     "execution_count": 26,
     "metadata": {},
     "output_type": "execute_result"
    }
   ],
   "source": [
    "convert_to_urdu()"
   ]
  },
  {
   "cell_type": "code",
   "execution_count": 9,
   "metadata": {},
   "outputs": [],
   "source": [
    "output = \"\"\n",
    "for ipa in text_data: \n",
    "    if ipa in dictionary:\n",
    "        output += dictionary[ipa]"
   ]
  },
  {
   "cell_type": "code",
   "execution_count": 10,
   "metadata": {},
   "outputs": [
    {
     "data": {
      "text/plain": [
       "''"
      ]
     },
     "execution_count": 10,
     "metadata": {},
     "output_type": "execute_result"
    }
   ],
   "source": [
    "output"
   ]
  }
 ],
 "metadata": {
  "kernelspec": {
   "display_name": "Python 3",
   "language": "python",
   "name": "python3"
  },
  "language_info": {
   "codemirror_mode": {
    "name": "ipython",
    "version": 3
   },
   "file_extension": ".py",
   "mimetype": "text/x-python",
   "name": "python",
   "nbconvert_exporter": "python",
   "pygments_lexer": "ipython3",
   "version": "3.7.6"
  }
 },
 "nbformat": 4,
 "nbformat_minor": 4
}
