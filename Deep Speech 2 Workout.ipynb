{
 "cells": [
  {
   "cell_type": "code",
   "execution_count": 2,
   "metadata": {},
   "outputs": [
    {
     "name": "stderr",
     "output_type": "stream",
     "text": [
      "C:\\Users\\siraj\\anaconda3\\lib\\site-packages\\tensorflow\\python\\framework\\dtypes.py:516: FutureWarning: Passing (type, 1) or '1type' as a synonym of type is deprecated; in a future version of numpy, it will be understood as (type, (1,)) / '(1,)type'.\n",
      "  _np_qint8 = np.dtype([(\"qint8\", np.int8, 1)])\n",
      "C:\\Users\\siraj\\anaconda3\\lib\\site-packages\\tensorflow\\python\\framework\\dtypes.py:517: FutureWarning: Passing (type, 1) or '1type' as a synonym of type is deprecated; in a future version of numpy, it will be understood as (type, (1,)) / '(1,)type'.\n",
      "  _np_quint8 = np.dtype([(\"quint8\", np.uint8, 1)])\n",
      "C:\\Users\\siraj\\anaconda3\\lib\\site-packages\\tensorflow\\python\\framework\\dtypes.py:518: FutureWarning: Passing (type, 1) or '1type' as a synonym of type is deprecated; in a future version of numpy, it will be understood as (type, (1,)) / '(1,)type'.\n",
      "  _np_qint16 = np.dtype([(\"qint16\", np.int16, 1)])\n",
      "C:\\Users\\siraj\\anaconda3\\lib\\site-packages\\tensorflow\\python\\framework\\dtypes.py:519: FutureWarning: Passing (type, 1) or '1type' as a synonym of type is deprecated; in a future version of numpy, it will be understood as (type, (1,)) / '(1,)type'.\n",
      "  _np_quint16 = np.dtype([(\"quint16\", np.uint16, 1)])\n",
      "C:\\Users\\siraj\\anaconda3\\lib\\site-packages\\tensorflow\\python\\framework\\dtypes.py:520: FutureWarning: Passing (type, 1) or '1type' as a synonym of type is deprecated; in a future version of numpy, it will be understood as (type, (1,)) / '(1,)type'.\n",
      "  _np_qint32 = np.dtype([(\"qint32\", np.int32, 1)])\n",
      "C:\\Users\\siraj\\anaconda3\\lib\\site-packages\\tensorflow\\python\\framework\\dtypes.py:525: FutureWarning: Passing (type, 1) or '1type' as a synonym of type is deprecated; in a future version of numpy, it will be understood as (type, (1,)) / '(1,)type'.\n",
      "  np_resource = np.dtype([(\"resource\", np.ubyte, 1)])\n",
      "C:\\Users\\siraj\\anaconda3\\lib\\site-packages\\tensorboard\\compat\\tensorflow_stub\\dtypes.py:541: FutureWarning: Passing (type, 1) or '1type' as a synonym of type is deprecated; in a future version of numpy, it will be understood as (type, (1,)) / '(1,)type'.\n",
      "  _np_qint8 = np.dtype([(\"qint8\", np.int8, 1)])\n",
      "C:\\Users\\siraj\\anaconda3\\lib\\site-packages\\tensorboard\\compat\\tensorflow_stub\\dtypes.py:542: FutureWarning: Passing (type, 1) or '1type' as a synonym of type is deprecated; in a future version of numpy, it will be understood as (type, (1,)) / '(1,)type'.\n",
      "  _np_quint8 = np.dtype([(\"quint8\", np.uint8, 1)])\n",
      "C:\\Users\\siraj\\anaconda3\\lib\\site-packages\\tensorboard\\compat\\tensorflow_stub\\dtypes.py:543: FutureWarning: Passing (type, 1) or '1type' as a synonym of type is deprecated; in a future version of numpy, it will be understood as (type, (1,)) / '(1,)type'.\n",
      "  _np_qint16 = np.dtype([(\"qint16\", np.int16, 1)])\n",
      "C:\\Users\\siraj\\anaconda3\\lib\\site-packages\\tensorboard\\compat\\tensorflow_stub\\dtypes.py:544: FutureWarning: Passing (type, 1) or '1type' as a synonym of type is deprecated; in a future version of numpy, it will be understood as (type, (1,)) / '(1,)type'.\n",
      "  _np_quint16 = np.dtype([(\"quint16\", np.uint16, 1)])\n",
      "C:\\Users\\siraj\\anaconda3\\lib\\site-packages\\tensorboard\\compat\\tensorflow_stub\\dtypes.py:545: FutureWarning: Passing (type, 1) or '1type' as a synonym of type is deprecated; in a future version of numpy, it will be understood as (type, (1,)) / '(1,)type'.\n",
      "  _np_qint32 = np.dtype([(\"qint32\", np.int32, 1)])\n",
      "C:\\Users\\siraj\\anaconda3\\lib\\site-packages\\tensorboard\\compat\\tensorflow_stub\\dtypes.py:550: FutureWarning: Passing (type, 1) or '1type' as a synonym of type is deprecated; in a future version of numpy, it will be understood as (type, (1,)) / '(1,)type'.\n",
      "  np_resource = np.dtype([(\"resource\", np.ubyte, 1)])\n"
     ]
    }
   ],
   "source": [
    "from tensorflow.compat.v1 import ConfigProto\n",
    "from tensorflow.compat.v1 import Session\n",
    "import os\n",
    "import librosa\n",
    "import IPython.display as ipd\n",
    "import matplotlib.pyplot as plt\n",
    "import numpy as np\n",
    "from scipy.io import wavfile\n",
    "from tqdm import tqdm\n",
    "import warnings\n",
    "\n",
    "\n",
    "config = ConfigProto()\n",
    "config.gpu_options.allow_growth = True\n",
    "sess = Session(config=config)\n",
    "\n",
    "warnings.filterwarnings(\"ignore\")"
   ]
  },
  {
   "cell_type": "code",
   "execution_count": 3,
   "metadata": {},
   "outputs": [],
   "source": [
    "# Labels for training\n",
    "labels = [\n",
    "    'one', 'two', 'zero', 'three', 'four', 'five', 'six', 'seven', 'eight', 'nine'\n",
    "]"
   ]
  },
  {
   "cell_type": "code",
   "execution_count": 14,
   "metadata": {},
   "outputs": [
    {
     "name": "stderr",
     "output_type": "stream",
     "text": [
      "\n",
      "\n",
      "\n",
      "  0%|                                                                                           | 0/10 [00:00<?, ?it/s]\u001b[A\u001b[A\u001b[A\n",
      "\n",
      "\n",
      " 10%|████████▎                                                                          | 1/10 [00:39<05:55, 39.47s/it]\u001b[A\u001b[A\u001b[A\n",
      "\n",
      "\n",
      " 20%|████████████████▌                                                                  | 2/10 [01:07<04:48, 36.10s/it]\u001b[A\u001b[A\u001b[A\n",
      "\n",
      "\n",
      " 30%|████████████████████████▉                                                          | 3/10 [01:47<04:20, 37.15s/it]\u001b[A\u001b[A\u001b[A\n",
      "\n",
      "\n",
      " 40%|█████████████████████████████████▏                                                 | 4/10 [02:23<03:41, 36.86s/it]\u001b[A\u001b[A\u001b[A\n",
      "\n",
      "\n",
      " 50%|█████████████████████████████████████████▌                                         | 5/10 [03:36<03:59, 47.86s/it]\u001b[A\u001b[A\u001b[A\n",
      "\n",
      "\n",
      " 60%|█████████████████████████████████████████████████▊                                 | 6/10 [04:10<02:54, 43.64s/it]\u001b[A\u001b[A\u001b[A\n",
      "\n",
      "\n",
      " 70%|██████████████████████████████████████████████████████████                         | 7/10 [04:55<02:12, 44.05s/it]\u001b[A\u001b[A\u001b[A\n",
      "\n",
      "\n",
      " 80%|██████████████████████████████████████████████████████████████████▍                | 8/10 [05:38<01:27, 43.74s/it]\u001b[A\u001b[A\u001b[A\n",
      "\n",
      "\n",
      " 90%|██████████████████████████████████████████████████████████████████████████▋        | 9/10 [06:12<00:40, 40.87s/it]\u001b[A\u001b[A\u001b[A\n",
      "\n",
      "\n",
      "100%|██████████████████████████████████████████████████████████████████████████████████| 10/10 [06:48<00:00, 40.81s/it]\u001b[A\u001b[A\u001b[A\n"
     ]
    }
   ],
   "source": [
    "train_audio_path = 'Dataset/augmented_dataset'\n",
    "all_wave = []\n",
    "all_label = []\n",
    "for label in tqdm(labels):\n",
    "    waves = [f for f in os.listdir(train_audio_path + '/'+ label) if f.endswith('.wav')]\n",
    "    for wav in waves:\n",
    "        samples, sample_rate = librosa.load(train_audio_path + '/' + label + '/' + wav, sr = 16000)\n",
    "        samples = librosa.resample(samples, sample_rate, 8000)\n",
    "        if(len(samples)== 8000) : \n",
    "            all_wave.append(samples)\n",
    "            all_label.append(label)"
   ]
  },
  {
   "cell_type": "code",
   "execution_count": 15,
   "metadata": {},
   "outputs": [
    {
     "name": "stderr",
     "output_type": "stream",
     "text": [
      "Using TensorFlow backend.\n"
     ]
    }
   ],
   "source": [
    "from sklearn.preprocessing import LabelEncoder\n",
    "from keras.utils import np_utils\n",
    "\n",
    "label_enconder = LabelEncoder()\n",
    "y = label_enconder.fit_transform(all_label)\n",
    "classes = list(label_enconder.classes_)\n",
    "y = np_utils.to_categorical(y, num_classes=len(labels))"
   ]
  },
  {
   "cell_type": "code",
   "execution_count": 16,
   "metadata": {},
   "outputs": [],
   "source": [
    "all_wave = np.array(all_wave).reshape(-1,8000,1)"
   ]
  },
  {
   "cell_type": "code",
   "execution_count": 17,
   "metadata": {},
   "outputs": [],
   "source": [
    "from sklearn.model_selection import train_test_split\n",
    "x_train, x_valid, y_train, y_valid = train_test_split(np.array(all_wave),np.array(y),stratify=y,test_size = 0.3,random_state=777,shuffle=True)"
   ]
  },
  {
   "cell_type": "code",
   "execution_count": 18,
   "metadata": {},
   "outputs": [],
   "source": [
    "#Main model\n",
    "from keras.layers import Bidirectional, BatchNormalization, CuDNNGRU, TimeDistributed"
   ]
  },
  {
   "cell_type": "code",
   "execution_count": 19,
   "metadata": {},
   "outputs": [
    {
     "name": "stdout",
     "output_type": "stream",
     "text": [
      "WARNING:tensorflow:From C:\\Users\\siraj\\anaconda3\\lib\\site-packages\\keras\\backend\\tensorflow_backend.py:4070: The name tf.nn.max_pool is deprecated. Please use tf.nn.max_pool2d instead.\n",
      "\n",
      "Model: \"model_1\"\n",
      "_________________________________________________________________\n",
      "Layer (type)                 Output Shape              Param #   \n",
      "=================================================================\n",
      "input_1 (InputLayer)         (None, 8000, 1)           0         \n",
      "_________________________________________________________________\n",
      "batch_normalization_1 (Batch (None, 8000, 1)           4         \n",
      "_________________________________________________________________\n",
      "conv1d_1 (Conv1D)            (None, 7988, 8)           112       \n",
      "_________________________________________________________________\n",
      "max_pooling1d_1 (MaxPooling1 (None, 2662, 8)           0         \n",
      "_________________________________________________________________\n",
      "dropout_1 (Dropout)          (None, 2662, 8)           0         \n",
      "_________________________________________________________________\n",
      "conv1d_2 (Conv1D)            (None, 2652, 16)          1424      \n",
      "_________________________________________________________________\n",
      "max_pooling1d_2 (MaxPooling1 (None, 884, 16)           0         \n",
      "_________________________________________________________________\n",
      "dropout_2 (Dropout)          (None, 884, 16)           0         \n",
      "_________________________________________________________________\n",
      "conv1d_3 (Conv1D)            (None, 876, 32)           4640      \n",
      "_________________________________________________________________\n",
      "max_pooling1d_3 (MaxPooling1 (None, 292, 32)           0         \n",
      "_________________________________________________________________\n",
      "dropout_3 (Dropout)          (None, 292, 32)           0         \n",
      "_________________________________________________________________\n",
      "batch_normalization_2 (Batch (None, 292, 32)           128       \n",
      "_________________________________________________________________\n",
      "bidirectional_1 (Bidirection (None, 292, 128)          124416    \n",
      "_________________________________________________________________\n",
      "bidirectional_2 (Bidirection (None, 292, 128)          198144    \n",
      "_________________________________________________________________\n",
      "bidirectional_3 (Bidirection (None, 128)               198144    \n",
      "_________________________________________________________________\n",
      "batch_normalization_3 (Batch (None, 128)               512       \n",
      "_________________________________________________________________\n",
      "dense_1 (Dense)              (None, 256)               33024     \n",
      "_________________________________________________________________\n",
      "dense_2 (Dense)              (None, 10)                2570      \n",
      "=================================================================\n",
      "Total params: 563,118\n",
      "Trainable params: 562,796\n",
      "Non-trainable params: 322\n",
      "_________________________________________________________________\n"
     ]
    }
   ],
   "source": [
    "from keras.layers import Dense, Dropout, Flatten, Conv1D, Input, MaxPooling1D\n",
    "from keras.models import Model\n",
    "from keras.callbacks import EarlyStopping, ModelCheckpoint\n",
    "from keras import backend as K\n",
    "K.clear_session()\n",
    "\n",
    "inputs = Input(shape=(8000,1))\n",
    "x = BatchNormalization(axis=-1, momentum=0.99, epsilon=1e-3, center=True, scale=True)(inputs)\n",
    "\n",
    "#First Conv1D layer\n",
    "x = Conv1D(8,13, padding='valid', activation='relu', strides=1)(x)\n",
    "x = MaxPooling1D(3)(x)\n",
    "x = Dropout(0.3)(x)\n",
    "\n",
    "#Second Conv1D layer\n",
    "x = Conv1D(16, 11, padding='valid', activation='relu', strides=1)(x)\n",
    "x = MaxPooling1D(3)(x)\n",
    "x = Dropout(0.3)(x)\n",
    "\n",
    "#Third Conv1D layer\n",
    "x = Conv1D(32, 9, padding='valid', activation='relu', strides=1)(x)\n",
    "x = MaxPooling1D(3)(x)\n",
    "x = Dropout(0.3)(x)\n",
    "\n",
    "x = BatchNormalization(axis=-1, momentum=0.99, epsilon=1e-3, center=True, scale=True)(x)\n",
    "\n",
    "x = Bidirectional(CuDNNGRU(128, return_sequences=True), merge_mode='sum')(x)\n",
    "x = Bidirectional(CuDNNGRU(128, return_sequences=True), merge_mode='sum')(x)\n",
    "x = Bidirectional(CuDNNGRU(128, return_sequences=False), merge_mode='sum')(x)\n",
    "\n",
    "x = BatchNormalization(axis=-1, momentum=0.99, epsilon=1e-3, center=True, scale=True)(x)\n",
    "\n",
    "#Dense Layer 1\n",
    "x = Dense(256, activation='relu')(x)\n",
    "outputs = Dense(len(labels), activation=\"softmax\")(x)\n",
    "\n",
    "model = Model(inputs, outputs)\n",
    "model.summary()\n"
   ]
  },
  {
   "cell_type": "code",
   "execution_count": 20,
   "metadata": {},
   "outputs": [],
   "source": [
    "model.compile(loss='categorical_crossentropy',optimizer='nadam',metrics=['accuracy'])"
   ]
  },
  {
   "cell_type": "code",
   "execution_count": 21,
   "metadata": {},
   "outputs": [],
   "source": [
    "checkpoint = ModelCheckpoint('deepSpeech_model.hdf5', monitor='val_acc', \n",
    "                             verbose=1, save_best_only=True, mode='max')"
   ]
  },
  {
   "cell_type": "code",
   "execution_count": 22,
   "metadata": {},
   "outputs": [
    {
     "name": "stdout",
     "output_type": "stream",
     "text": [
      "WARNING:tensorflow:From C:\\Users\\siraj\\anaconda3\\lib\\site-packages\\keras\\backend\\tensorflow_backend.py:422: The name tf.global_variables is deprecated. Please use tf.compat.v1.global_variables instead.\n",
      "\n",
      "Train on 9321 samples, validate on 3996 samples\n",
      "Epoch 1/20\n",
      "9321/9321 [==============================] - 123s 13ms/step - loss: 0.8984 - accuracy: 0.6945 - val_loss: 2.8067 - val_accuracy: 0.1599\n",
      "Epoch 2/20\n",
      "9321/9321 [==============================] - 120s 13ms/step - loss: 0.2655 - accuracy: 0.9113 - val_loss: 0.8756 - val_accuracy: 0.7603\n",
      "Epoch 3/20\n",
      "9321/9321 [==============================] - 120s 13ms/step - loss: 0.2030 - accuracy: 0.9318 - val_loss: 0.1943 - val_accuracy: 0.9515\n",
      "Epoch 4/20\n",
      "9321/9321 [==============================] - 120s 13ms/step - loss: 0.1713 - accuracy: 0.9434 - val_loss: 0.1063 - val_accuracy: 0.9650\n",
      "Epoch 5/20\n",
      "9321/9321 [==============================] - 120s 13ms/step - loss: 0.1379 - accuracy: 0.9538 - val_loss: 0.5190 - val_accuracy: 0.8413\n",
      "Epoch 6/20\n",
      "9321/9321 [==============================] - 124s 13ms/step - loss: 0.1266 - accuracy: 0.9575 - val_loss: 0.1373 - val_accuracy: 0.9547\n",
      "Epoch 7/20\n",
      "9321/9321 [==============================] - 129s 14ms/step - loss: 0.1097 - accuracy: 0.9645 - val_loss: 0.1175 - val_accuracy: 0.9615\n",
      "Epoch 8/20\n",
      "9321/9321 [==============================] - 130s 14ms/step - loss: 0.1173 - accuracy: 0.9596 - val_loss: 1.4505 - val_accuracy: 0.7520\n",
      "Epoch 9/20\n",
      "9321/9321 [==============================] - 125s 13ms/step - loss: 0.1106 - accuracy: 0.9636 - val_loss: 0.1075 - val_accuracy: 0.9652\n",
      "Epoch 10/20\n",
      "9321/9321 [==============================] - 122s 13ms/step - loss: 0.1072 - accuracy: 0.9649 - val_loss: 0.2423 - val_accuracy: 0.9264\n",
      "Epoch 11/20\n",
      "9321/9321 [==============================] - 120s 13ms/step - loss: 0.0976 - accuracy: 0.9666 - val_loss: 0.1077 - val_accuracy: 0.9675\n",
      "Epoch 12/20\n",
      "9321/9321 [==============================] - 119s 13ms/step - loss: 0.0981 - accuracy: 0.9663 - val_loss: 0.0776 - val_accuracy: 0.9757\n",
      "Epoch 13/20\n",
      "9321/9321 [==============================] - 119s 13ms/step - loss: 0.0886 - accuracy: 0.9701 - val_loss: 0.0767 - val_accuracy: 0.9700\n",
      "Epoch 14/20\n",
      "9321/9321 [==============================] - 120s 13ms/step - loss: 0.0818 - accuracy: 0.9717 - val_loss: 0.1590 - val_accuracy: 0.9452\n",
      "Epoch 15/20\n",
      "9321/9321 [==============================] - 120s 13ms/step - loss: 0.0933 - accuracy: 0.9681 - val_loss: 0.0892 - val_accuracy: 0.9685\n",
      "Epoch 16/20\n",
      "9321/9321 [==============================] - 120s 13ms/step - loss: 0.0850 - accuracy: 0.9714 - val_loss: 0.1219 - val_accuracy: 0.9665\n",
      "Epoch 17/20\n",
      "9321/9321 [==============================] - 120s 13ms/step - loss: 0.0909 - accuracy: 0.9720 - val_loss: 0.1028 - val_accuracy: 0.9677\n",
      "Epoch 18/20\n",
      "9321/9321 [==============================] - 120s 13ms/step - loss: 0.0792 - accuracy: 0.9741 - val_loss: 0.1055 - val_accuracy: 0.9680\n",
      "Epoch 19/20\n",
      "9321/9321 [==============================] - 121s 13ms/step - loss: 0.0812 - accuracy: 0.9721 - val_loss: 0.1362 - val_accuracy: 0.9607\n",
      "Epoch 20/20\n",
      "9321/9321 [==============================] - 120s 13ms/step - loss: 0.0759 - accuracy: 0.9750 - val_loss: 0.0768 - val_accuracy: 0.9752\n"
     ]
    }
   ],
   "source": [
    "hist = model.fit(\n",
    "    x=x_train, \n",
    "    y=y_train,\n",
    "    epochs=20, \n",
    "    callbacks=[checkpoint], \n",
    "    batch_size=32, \n",
    "    validation_data=(x_valid,y_valid)\n",
    ")"
   ]
  },
  {
   "cell_type": "code",
   "execution_count": 23,
   "metadata": {},
   "outputs": [
    {
     "data": {
      "image/png": "[encoded data removed]",
      "text/plain": [
       "<Figure size 432x288 with 1 Axes>"
      ]
     },
     "metadata": {
      "needs_background": "light"
     },
     "output_type": "display_data"
    }
   ],
   "source": [
    "from matplotlib import pyplot\n",
    "pyplot.plot(hist.history['loss'], label='train')\n",
    "pyplot.plot(hist.history['val_loss'], label='test')\n",
    "pyplot.legend()\n",
    "pyplot.show()"
   ]
  },
  {
   "cell_type": "code",
   "execution_count": 33,
   "metadata": {},
   "outputs": [
    {
     "data": {
      "image/png": "[encoded data removed]",
      "text/plain": [
       "<Figure size 432x288 with 1 Axes>"
      ]
     },
     "metadata": {
      "needs_background": "light"
     },
     "output_type": "display_data"
    }
   ],
   "source": [
    "pyplot.plot(hist.history['accuracy'], label='train_acc')\n",
    "pyplot.plot(hist.history['val_accuracy'], label='test_acc')\n",
    "pyplot.legend()\n",
    "pyplot.show()"
   ]
  },
  {
   "cell_type": "code",
   "execution_count": 24,
   "metadata": {},
   "outputs": [],
   "source": [
    "model.save('deepSpeech.hdf5')"
   ]
  },
  {
   "cell_type": "code",
   "execution_count": 25,
   "metadata": {},
   "outputs": [],
   "source": [
    "from keras.models import load_model\n",
    "model = load_model('deepSpeech.hdf5')"
   ]
  },
  {
   "cell_type": "code",
   "execution_count": 26,
   "metadata": {},
   "outputs": [],
   "source": [
    "def s2t_predict(audio, shape_num=8000):\n",
    "    prob=model.predict(audio.reshape(1,shape_num,1))\n",
    "    index=np.argmax(prob[0])\n",
    "    return classes[index]"
   ]
  },
  {
   "cell_type": "code",
   "execution_count": 27,
   "metadata": {},
   "outputs": [
    {
     "name": "stdout",
     "output_type": "stream",
     "text": [
      "Audio: nine\n"
     ]
    },
    {
     "data": {
      "text/html": [
       "\n",
       "                <audio  controls=\"controls\" >\n",
       "                    <source src=\"data:audio/wav;base64,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\" type=\"audio/wav\" />\n",
       "                    Your browser does not support the audio element.\n",
       "                </audio>\n",
       "              "
      ],
      "text/plain": [
       "<IPython.lib.display.Audio object>"
      ]
     },
     "execution_count": 27,
     "metadata": {},
     "output_type": "execute_result"
    }
   ],
   "source": [
    "import random\n",
    "index=random.randint(0,len(x_valid)-1)\n",
    "samples=x_valid[index].ravel()\n",
    "print(\"Audio:\",classes[np.argmax(y_valid[index])])\n",
    "ipd.Audio(samples, rate=8000)"
   ]
  },
  {
   "cell_type": "code",
   "execution_count": 28,
   "metadata": {},
   "outputs": [
    {
     "data": {
      "text/plain": [
       "(8000,)"
      ]
     },
     "execution_count": 28,
     "metadata": {},
     "output_type": "execute_result"
    }
   ],
   "source": [
    "samples.shape"
   ]
  },
  {
   "cell_type": "code",
   "execution_count": 29,
   "metadata": {},
   "outputs": [
    {
     "name": "stdout",
     "output_type": "stream",
     "text": [
      "Text: nine\n"
     ]
    }
   ],
   "source": [
    "print(\"Text:\",s2t_predict(samples))"
   ]
  },
  {
   "cell_type": "code",
   "execution_count": 30,
   "metadata": {},
   "outputs": [
    {
     "name": "stdout",
     "output_type": "stream",
     "text": [
      "start\n",
      "end\n"
     ]
    }
   ],
   "source": [
    "import sounddevice as sd\n",
    "import soundfile as sf\n",
    "\n",
    "samplerate = 16000  \n",
    "duration = 1 # seconds\n",
    "filename = 'one.wav'\n",
    "print(\"start\")\n",
    "mydata = sd.rec(int(samplerate * duration), samplerate=samplerate,\n",
    "    channels=1, blocking=True)\n",
    "print(\"end\")\n",
    "sd.wait()\n",
    "sf.write(filename, mydata, samplerate)"
   ]
  },
  {
   "cell_type": "code",
   "execution_count": 31,
   "metadata": {},
   "outputs": [
    {
     "name": "stdout",
     "output_type": "stream",
     "text": [
      "(8000,)\n"
     ]
    },
    {
     "data": {
      "text/html": [
       "\n",
       "                <audio  controls=\"controls\" >\n",
       "                    <source src=\"data:audio/wav;base64,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\" type=\"audio/wav\" />\n",
       "                    Your browser does not support the audio element.\n",
       "                </audio>\n",
       "              "
      ],
      "text/plain": [
       "<IPython.lib.display.Audio object>"
      ]
     },
     "execution_count": 31,
     "metadata": {},
     "output_type": "execute_result"
    }
   ],
   "source": [
    "#reading the voice commands\n",
    "test, test_rate = librosa.load('one.wav', sr = 16000)\n",
    "test_sample = librosa.resample(test, test_rate, 8000)\n",
    "print(test_sample.shape)\n",
    "ipd.Audio(test_sample,rate=8000)"
   ]
  },
  {
   "cell_type": "code",
   "execution_count": 32,
   "metadata": {},
   "outputs": [
    {
     "data": {
      "text/plain": [
       "'one'"
      ]
     },
     "execution_count": 32,
     "metadata": {},
     "output_type": "execute_result"
    }
   ],
   "source": [
    "#converting voice commands to text\n",
    "s2t_predict(test_sample)"
   ]
  },
  {
   "cell_type": "code",
   "execution_count": null,
   "metadata": {},
   "outputs": [],
   "source": []
  }
 ],
 "metadata": {
  "kernelspec": {
   "display_name": "Python 3",
   "language": "python",
   "name": "python3"
  },
  "language_info": {
   "codemirror_mode": {
    "name": "ipython",
    "version": 3
   },
   "file_extension": ".py",
   "mimetype": "text/x-python",
   "name": "python",
   "nbconvert_exporter": "python",
   "pygments_lexer": "ipython3",
   "version": "3.7.6"
  }
 },
 "nbformat": 4,
 "nbformat_minor": 4
}
